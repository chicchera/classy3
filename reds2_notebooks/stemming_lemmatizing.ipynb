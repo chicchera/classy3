{
 "cells": [
  {
   "cell_type": "markdown",
   "id": "06e42a8a-dea7-4240-addd-6b3477570257",
   "metadata": {
    "tags": []
   },
   "source": [
    "# Stemming & Lemmatizing"
   ]
  },
  {
   "cell_type": "code",
   "execution_count": 1,
   "id": "d949a61c-56ab-4377-8d3d-7e2734f5b26e",
   "metadata": {},
   "outputs": [],
   "source": [
    "# import nltk\n",
    "import spacy\n",
    "spacy.prefer_gpu\n",
    "# from nltk.stem.snowball import SnowballStemmer\n",
    "# nlp = spacy.load('es_core_news_md', disable = ['parser','ner'])\n",
    "# nlp = spacy.load('es_core_news_sm', disable=[\"tagger\"])\n",
    "nlp = spacy.load('es_core_news_sm', disable = ['parser','ner'])\n",
    "#the stemmer requires a language parameter\n",
    "#snow_stemmer = SnowballStemmer(language='spanish')"
   ]
  },
  {
   "cell_type": "code",
   "execution_count": 2,
   "id": "e48172a0-efed-43ab-b926-79254a4f5ec4",
   "metadata": {},
   "outputs": [],
   "source": [
    "import nltk\n",
    "from nltk.stem import WordNetLemmatizer\n",
    "\n",
    "def lemmatize_sentence_tk(sentence):\n",
    "    lemmatizer = WordNetLemmatizer()\n",
    "    word_list = nltk.word_tokenize(sentence)\n",
    "    lemmatized_output = ' '.join([lemmatizer.lemmatize(w, pos='v') for w in word_list])\n",
    "    return lemmatized_output\n",
    "\n",
    "# sentence = \"Este es un portátil de bajo consumo\"\n"
   ]
  },
  {
   "cell_type": "code",
   "execution_count": 3,
   "id": "a2a0ae91-b17c-4328-9b8d-444d97f207e4",
   "metadata": {},
   "outputs": [],
   "source": [
    "sentence = \"\"\"\n",
    "red edad redes pion II simplemente obra arte narrativa visual historia simplemente increíble \n",
    "final impactante simplemente quedé mirando créditos lloraba magdalena ambientación fabulosa \n",
    "\"\"\""
   ]
  },
  {
   "cell_type": "code",
   "execution_count": 4,
   "id": "4c08226a-90f5-46ce-bac7-25e51fe1e58f",
   "metadata": {},
   "outputs": [
    {
     "name": "stdout",
     "output_type": "stream",
     "text": [
      "\n",
      "red edad redes pion II simplemente obra arte narrativa visual historia simplemente increíble \n",
      "final impactante simplemente quedé mirando créditos lloraba magdalena ambientación fabulosa \n",
      "\n"
     ]
    }
   ],
   "source": [
    "print(sentence)"
   ]
  },
  {
   "cell_type": "code",
   "execution_count": null,
   "id": "961c1ccb-82bf-4145-bfec-a7e9e817baf3",
   "metadata": {},
   "outputs": [],
   "source": [
    "def correct_text(long_text: str) -> str:"
   ]
  },
  {
   "cell_type": "code",
   "execution_count": 8,
   "id": "0eba0fc9-27ba-422f-9506-7906242c7bec",
   "metadata": {},
   "outputs": [],
   "source": [
    "def lemmatize_sentence(sentence: str) -> str:\n",
    "    \"\"\"\n",
    "    Lemmatizes a given sentence using Spacy library.\n",
    "\n",
    "    Parameters:\n",
    "    sentence (str): The sentence to be lemmatized.\n",
    "\n",
    "    Returns:\n",
    "    str: The lemmatized sentence.\n",
    "    \"\"\"\n",
    "\n",
    "    # Process the sentence using the loaded model\n",
    "    # doc = nlp(sentence)\n",
    "    # doc = nlp.pipe(sentence, disable = ['parser','ner'])\n",
    "    doc = nlp(sentence)\n",
    "    # Lemmatize each word in the processed sentence and join them using a space\n",
    "    # lemmatized_words = \" \".join([word.lemma_ for word in doc])\n",
    "\n",
    "    return  \" \".join([word.lemma_ for word in doc])"
   ]
  },
  {
   "cell_type": "code",
   "execution_count": 9,
   "id": "c83eede2-c2a2-4eb7-b516-04439709f9bf",
   "metadata": {},
   "outputs": [
    {
     "name": "stdout",
     "output_type": "stream",
     "text": [
      "2.99 ms ± 70 µs per loop (mean ± std. dev. of 7 runs, 100 loops each)\n"
     ]
    }
   ],
   "source": [
    "%%timeit\n",
    "doc = lemmatize_sentence(sentence)"
   ]
  },
  {
   "cell_type": "code",
   "execution_count": 7,
   "id": "bf579268-fec1-42d3-b0be-7770747b1f33",
   "metadata": {},
   "outputs": [
    {
     "ename": "NameError",
     "evalue": "name 'doc' is not defined",
     "output_type": "error",
     "traceback": [
      "\u001b[0;31m---------------------------------------------------------------------------\u001b[0m",
      "\u001b[0;31mNameError\u001b[0m                                 Traceback (most recent call last)",
      "Cell \u001b[0;32mIn[7], line 1\u001b[0m\n\u001b[0;32m----> 1\u001b[0m \u001b[38;5;28mprint\u001b[39m(\u001b[43mdoc\u001b[49m)\n",
      "\u001b[0;31mNameError\u001b[0m: name 'doc' is not defined"
     ]
    }
   ],
   "source": [
    "print(doc)"
   ]
  },
  {
   "cell_type": "code",
   "execution_count": null,
   "id": "b0084578-f181-4eee-84a8-f3c4187b8e34",
   "metadata": {},
   "outputs": [],
   "source": [
    "%%timeit\n",
    "doc = nlp(sentence)"
   ]
  },
  {
   "cell_type": "code",
   "execution_count": null,
   "id": "459b9062-9184-4c9c-b0a3-5f456f6315fd",
   "metadata": {},
   "outputs": [],
   "source": [
    "%%timeit\n",
    "doc = lemmatize_sentence_tk(sentence)"
   ]
  },
  {
   "cell_type": "code",
   "execution_count": null,
   "id": "9b44bc5a-9af0-4043-a69d-d3a2fb01d7bf",
   "metadata": {},
   "outputs": [],
   "source": [
    "print(doc)"
   ]
  },
  {
   "cell_type": "code",
   "execution_count": 11,
   "id": "ac3ea4b4-0e37-4c07-bb26-269f21f76dbe",
   "metadata": {},
   "outputs": [
    {
     "name": "stdout",
     "output_type": "stream",
     "text": [
      "\n",
      " bueno el contexto ser este el año pasado conocer a uno chica por internet empezar a hablar y yo caer superar bien el tiempo pasar y él pedir que fuérir novio y él aceptar ser uno relación a distancia él saber ese ser de tonto y estuvimos bien por uno dos mes luego de 2 mes él él sentir mal porque no poder estar con él porque yo necesitar y yo también él necesitar a él terminar el relación pero seguir hablar como amigo luego de uno semana él yo pedir volver y yo acepter porque igual él extrañar luego de nuevo yo terminar por el mismo razón hasta que llego diciembre y yo decir que conocer a uno chico y él besar y acostar con él porque querer olvidar yo rápidamente él él disculpar llorar y yo como el más grande idiotar el perdoné y de nuevo volver a estar por casi uno mes y otro vez terminar y yo decidir nunca más volver con él mientras estar lejos ambos prometer ser solo amigo porque yo llevar bien y tener gusto parecido y poder tener buena conversación y si estar hablar como amigo yo yo sentir bien porque pues pensar que todavía yo extrañar además que él seguir decir que yo querer y que quizás si alguno día el viera él yo seguir querer y poder dar yo uno oportunidad el problema ser este hacer uno semana estar por instagram y ver que él tener uno cuenta y uno chico él comentar el foto entre a ese cuenta y ser novio desde hacer casi uno mes yo sentir el peor mierda del mundo instantáneamente penser en mandar él a el mierda y alejar yo de él yo sentir si porque él yo decir que aun yo querer y hablábamos con normalidad pero luego de ver ese pensar que solo usar al chico para olvidar yo o solo estar fingir conmigo el punto ser que hasta hoy seguir hablar con él porque ser mi único amiga y no tener a nadie mas con quien hablar él saber este sonar tonto pero no querer quedar yo solo ser por ese que yo seguir torturar hablar con él y todo el tiempo él yo venir a el cabeza que él tener uno novio y estar hacer con él todo él que uno día yo prometer pero a el vez querer seguir hablar con él y conseguir yo a uno chica y subir foto con él y mi ex él ver y sentar él que yo sentir porque en el fondo saber que él todavía gustar de yo yo sentir del carajo y necesitar consejo gracias \n",
      "\n"
     ]
    }
   ],
   "source": [
    "import spacy\n",
    "\n",
    "# Load the Spanish language model\n",
    "nlp = spacy.load(\"es_core_news_sm\")\n",
    "\n",
    "# Example text\n",
    "text = \"\"\"\n",
    "bueno el contexto es este el año pasado conocí a una chica por internet empezamos a hablar \n",
    "y nos caemos supera bien el tiempo pasó y le pedí que fuéramos novios y ella aceptó fue una \n",
    "relación a distancia lo sé eso es de tontos y estuvimos bien por unos dos meses luego de 2 \n",
    "meses ella se sentía mal porque no podía estar con ella porque me necesitaba y yo también la \n",
    "necesitaba a ella terminamos la relación pero seguimos hablando como amigos luego de unas semanas \n",
    "ella me pidió volver y yo acepté porque igual la extrañaba luego de nuevo me terminó por la misma \n",
    "razón hasta que llego diciembre y me dijo que conoció a un chico y se besó y acostó con él porque \n",
    "quería olvidarme rápidamente ella se disculpó llorando y yo como el más grande idiota la perdoné y \n",
    "de nuevo volvimos a estar por casi un mes y otra vez terminamos y yo decidí nunca más volver con ella \n",
    "mientras estemos lejos ambos prometimos ser solo amigos porque nos llevamos bien y tenemos gustos \n",
    "parecidos y podemos tener buenas conversaciones y si estuvimos hablando como amigos yo me sentía \n",
    "bien porque pues pensé que todavía me extrañaba además que ella seguir diciendo que me quería y que \n",
    "quizás si alguna día la viera ella me seguiría queriendo y podamos darnos una oportunidad el problema \n",
    "es este hace una semana estaba por instagram y vi que ella tenía una cuenta y un chico le \n",
    "comentaba las fotos entre a esa cuenta y eran novios desde hace casi un mes me sentí la peor \n",
    "mierda del mundo instantáneamente pensé en mandarla a la mierda y alejarme de ella me sentí \n",
    "si porque ella me decir que aun me quería y hablábamos con normalidad pero luego de ver eso \n",
    "pensé que solo usaba al chico para olvidarme o solo estaba fingiendo conmigo el punto es que \n",
    "hasta hoy sigo hablando con ella porque es mi única amiga y no tengo a nadie mas con quien hablar \n",
    "lo sé esto sonará tonto pero no quiero quedarme solo es por eso que me sigo torturando hablando \n",
    "con ella y todo el tiempo se me viene a la cabeza que ella tiene un novio y está haciendo con \n",
    "él todo lo que un día me prometió pero a la vez quiero seguir hablando con ella y conseguirme a \n",
    "una chica y subir fotos con ella y mi ex lo vea y sienta lo que yo siento porque en el fondo sé \n",
    "que ella todavía gusta de mí me siento del carajo y necesito consejos gracias\n",
    "\"\"\"\n",
    "\n",
    "# Process the text\n",
    "doc = nlp(text)\n",
    "\n",
    "# Lemmatize the text\n",
    "lemmatized_text = \" \".join([token.lemma_ for token in doc])\n",
    "\n",
    "print(lemmatized_text)\n"
   ]
  }
 ],
 "metadata": {
  "kernelspec": {
   "display_name": "Python 3 (ipykernel)",
   "language": "python",
   "name": "python3"
  },
  "language_info": {
   "codemirror_mode": {
    "name": "ipython",
    "version": 3
   },
   "file_extension": ".py",
   "mimetype": "text/x-python",
   "name": "python",
   "nbconvert_exporter": "python",
   "pygments_lexer": "ipython3",
   "version": "3.10.8"
  }
 },
 "nbformat": 4,
 "nbformat_minor": 5
}
