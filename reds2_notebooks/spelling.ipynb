{
 "cells": [
  {
   "cell_type": "markdown",
   "id": "63698dbf-b204-4807-9463-356230e9f05a",
   "metadata": {},
   "source": [
    "### Spacy lemmatization"
   ]
  },
  {
   "cell_type": "code",
   "execution_count": 31,
   "id": "c0d90ec0-f76b-48e9-94ef-e9c0d3b4240c",
   "metadata": {},
   "outputs": [],
   "source": [
    "from symspellpy import SymSpell, Verbosity\n",
    "import re\n"
   ]
  },
  {
   "cell_type": "code",
   "execution_count": 32,
   "id": "f8bfc967-bb37-45fa-81ab-693e350a52ac",
   "metadata": {},
   "outputs": [
    {
     "data": {
      "text/plain": [
       "True"
      ]
     },
     "execution_count": 32,
     "metadata": {},
     "output_type": "execute_result"
    }
   ],
   "source": [
    "# load the dictionary\n",
    "dictionary_es = \"/home/silvio/miniconda3/envs/classy3/prg/config/es-100l-dic.txt\"\n",
    "ss = SymSpell(max_dictionary_edit_distance=1, prefix_length=7)\n",
    "ss.load_dictionary(dictionary_es, term_index=0, count_index=1)"
   ]
  },
  {
   "cell_type": "code",
   "execution_count": 33,
   "id": "3782e88a-0c7d-4d29-96c9-bda58e575095",
   "metadata": {},
   "outputs": [],
   "source": [
    "def correct_text_with_symspell(text: str) -> str:\n",
    "     # Define a regular expression pattern to tokenize the text into words\n",
    "    word_pattern = re.compile(r'\\b\\w+\\b')\n",
    "    text = text.lower()\n",
    "    # Tokenize the input text into words\n",
    "    words = word_pattern.findall(text)\n",
    "\n",
    "    # Correct misspelled words and build the corrected text\n",
    "    corrected_text = []\n",
    "    for word in words:\n",
    "        suggestions = ss.lookup(word, Verbosity.CLOSEST, max_edit_distance=1)\n",
    "        corrected_word = suggestions[0].term if suggestions else word\n",
    "        corrected_text.append(corrected_word)\n",
    "\n",
    "    # Reconstruct the corrected text while maintaining original punctuation\n",
    "    reconstructed_text = \"\"\n",
    "    for i, match in enumerate(word_pattern.finditer(text)):\n",
    "        word_start, word_end = match.start(), match.end()\n",
    "        reconstructed_text += text[word_start:word_end].replace(match.group(), corrected_text[i])\n",
    "\n",
    "        # Add any punctuation or spaces between words\n",
    "        if i < len(corrected_text) - 1:\n",
    "            next_match = word_pattern.search(text[word_end:])\n",
    "            if next_match:\n",
    "                reconstructed_text += text[word_end:word_end + next_match.start()]\n",
    "\n",
    "    return reconstructed_text\n",
    "\n",
    "# Example usage:\n",
    "\n"
   ]
  },
  {
   "cell_type": "code",
   "execution_count": 34,
   "id": "15f67b79",
   "metadata": {},
   "outputs": [],
   "source": [
    "def correct_text_with_symspell_2(text: str) -> str:\n",
    "    text = text.lower()\n",
    "\n",
    "\n",
    "    # Define a regular expression pattern to tokenize the text into words\n",
    "    word_pattern = re.compile(r'\\b\\w+\\b')\n",
    "\n",
    "    # Tokenize the input text into words\n",
    "    words = word_pattern.findall(text)\n",
    "\n",
    "    # Initialize lists to store misspelled words and corrected words\n",
    "    misspelled_words = []\n",
    "    corrected_text = []\n",
    "\n",
    "    for word in words:\n",
    "        suggestions = ss.lookup(word, Verbosity.CLOSEST, max_edit_distance=1)\n",
    "        corrected_word = suggestions[0].term if suggestions else word\n",
    "\n",
    "        # Check if the word was corrected\n",
    "        if corrected_word != word:\n",
    "            misspelled_words.append(word)\n",
    "\n",
    "        corrected_text.append(corrected_word)\n",
    "\n",
    "    # Reconstruct the corrected text while maintaining original punctuation\n",
    "    reconstructed_text = \"\"\n",
    "    for i, match in enumerate(word_pattern.finditer(text)):\n",
    "        word_start, word_end = match.start(), match.end()\n",
    "        reconstructed_text += text[word_start:word_end].replace(match.group(), corrected_text[i])\n",
    "\n",
    "        # Add any punctuation or spaces between words\n",
    "        if i < len(corrected_text) - 1:\n",
    "            next_match = word_pattern.search(text[word_end:])\n",
    "            if next_match:\n",
    "                reconstructed_text += text[word_end:word_end + next_match.start()]\n",
    "\n",
    "    return reconstructed_text, misspelled_words\n",
    "\n",
    "# Example usage:\n"
   ]
  },
  {
   "cell_type": "code",
   "execution_count": 35,
   "id": "d367e672-37dc-4544-9062-4d549410e3cd",
   "metadata": {},
   "outputs": [
    {
     "name": "stdout",
     "output_type": "stream",
     "text": [
      "tengo un gato negro y un perro blanco. el gato es muy juguetón\n"
     ]
    }
   ],
   "source": [
    "\n",
    "input_text = \"Tengo un gato negro y un perrro blanco. El gato es muy juguetón.\"\n",
    "corrected_result = correct_text_with_symspell(input_text)\n",
    "print(corrected_result)"
   ]
  },
  {
   "cell_type": "code",
   "execution_count": 36,
   "id": "75584a5e",
   "metadata": {},
   "outputs": [
    {
     "name": "stdout",
     "output_type": "stream",
     "text": [
      "Corrected Text: tengo un gato negro y un perro blanco. el gato es muy juguetón\n",
      "Misspelled Words: ['Tengo', 'perrro', 'El']\n"
     ]
    }
   ],
   "source": [
    "# corrected_result = correct_text_with_symspell_2(input_text)\n",
    "# print(corrected_result)\n",
    "\n",
    "corrected_result, misspelled_words = correct_text_with_symspell_2(input_text)\n",
    "print(\"Corrected Text:\", corrected_result)\n",
    "print(\"Misspelled Words:\", misspelled_words)"
   ]
  }
 ],
 "metadata": {
  "kernelspec": {
   "display_name": "Python 3 (ipykernel)",
   "language": "python",
   "name": "python3"
  },
  "language_info": {
   "codemirror_mode": {
    "name": "ipython",
    "version": 3
   },
   "file_extension": ".py",
   "mimetype": "text/x-python",
   "name": "python",
   "nbconvert_exporter": "python",
   "pygments_lexer": "ipython3",
   "version": "3.10.8"
  }
 },
 "nbformat": 4,
 "nbformat_minor": 5
}
