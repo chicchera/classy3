{
 "cells": [
  {
   "cell_type": "code",
   "execution_count": 23,
   "id": "b5fcb16a-8b6e-47ae-9d68-eac5e9814188",
   "metadata": {},
   "outputs": [
    {
     "name": "stdout",
     "output_type": "stream",
     "text": [
      "/home/silvio/miniconda3/envs/classy3/prg\n"
     ]
    }
   ],
   "source": [
    "%cd /home/silvio/miniconda3/envs/classy3/prg\n",
    "\n",
    "import linecache\n",
    "from symspellpy import SymSpell, Verbosity\n",
    "from rich import print\n",
    "import inspect\n",
    "import os\n",
    "from collections import Counter\n",
    "import re\n",
    "import textstat\n",
    "import icegream as ic\n",
    "from utils.file_utils import file_validate, diy_file_validate\n"
   ]
  },
  {
   "cell_type": "markdown",
   "id": "0a024665-794e-4f57-a4d0-8c6e717eabe2",
   "metadata": {},
   "source": [
    "See:\n",
    "\n",
    "[Debugging 101: Replace print() with icecream ic() - YouTube](https://www.youtube.com/watch?v=JJ9zZ8cyaEk)  \n",
    "[Walrus Operator - YouTube](https://www.youtube.com/watch?v=MEMDi9mTCiU)   \n",
    "[Debugging and Troubleshooting in Jupyter Notebooks: Tips and Tricks | Saturn Cloud Blog](https://saturncloud.io/blog/debugging-and-troubleshooting-in-jupyter-notebooks-tips-and-tricks/)  \n",
    " \n",
    "[Mario Vargas Llosa y las tres novelas que marcaron hitos en su carrera literaria | RPP Noticias](https://rpp.pe/cultura/literatura/mario-vargas-llosa-y-las-tres-novelas-que-marcaron-hitos-en-su-carrera-literaria-noticia-1475450?ref=rpp)  \n",
    "[Las obras más importantes de Gabriel García Márquez • Skoool](https://skoool.es/las-obras-mas-importantes-de-gabriel-garcia-marquez/)"
   ]
  },
  {
   "cell_type": "code",
   "execution_count": 24,
   "id": "e5092e58-9158-47c8-a087-83b21fcd1485",
   "metadata": {},
   "outputs": [],
   "source": [
    "class Dictionaries:\n",
    "\n",
    "    def __init__(self, filename=None, steps=10):\n",
    "        self._file = filename\n",
    "        self._steps = steps\n",
    "        self._block_size = 0\n",
    "        self._auxiliary_dictionaries = []  # List of tuples (filename, position)\n",
    "        # self._words = None\n",
    "        self._num_words = 0\n",
    "        self._steps_thresholds = []\n",
    "        self._steps_lines = []\n",
    "\n",
    "        self.set_dictionary(filename, steps)\n",
    "\n",
    "   \n",
    "    def get_line_frequency(self,line_num):\n",
    "        \"\"\"\n",
    "            When splitting the dictionary for creating the steps,\n",
    "            it reads a specific line of the dictionary and returns the\n",
    "            frequency of the associated word.\n",
    "            SymSpell returns the original word, or the correction, toghether\n",
    "            with the frequency: this number will be usde to classify the difficulty\n",
    "            of a word.\n",
    "        \"\"\"\n",
    "        second_word_as_int = None\n",
    "        line = linecache.getline(self._file, line_num)\n",
    "        if line:\n",
    "            words = line.split()\n",
    "            if len(words) >= 2:\n",
    "                second_word = words[1]\n",
    "                print(f\"[{second_word=}]\")\n",
    "                try:\n",
    "                    second_word_as_int = int(second_word)\n",
    "                except ValueError:\n",
    "                    print(\"Second word is not an integer.\")\n",
    "            else:\n",
    "                print(\"Line doesn't contain at least two words.\")\n",
    "        return second_word_as_int\n",
    "        \n",
    "    def divide_dictionary(self):\n",
    "        self._block_size = self._num_words // self._steps\n",
    "        extra_words = self._num_words % self._steps\n",
    "        \n",
    "        self._steps_lines = []\n",
    "        self._steps_thresholds = []\n",
    "\n",
    "        start = 0  # Starting line is always 1\n",
    "        for i in range(self._steps):\n",
    "            if i == 0:\n",
    "                # First block, include the extra words\n",
    "                end = start + self._block_size + extra_words\n",
    "            else:\n",
    "                end = start + self._block_size\n",
    "\n",
    "            self._steps_lines.append(end)\n",
    "            self._steps_thresholds.append(self.get_line_frequency(end))\n",
    "            \n",
    "            start = end\n",
    "         \n",
    "        \n",
    "    def set_dictionary(self, filename=None, steps=10):\n",
    "        success, message = diy_file_validate(filename)\n",
    "        if success:\n",
    "            self._file = filename\n",
    "        else:\n",
    "            error(0, f\"File {filename}: {message}\")\n",
    "\n",
    "        if not steps:\n",
    "            print(\"Steps must be greater than 0. Assigned 10 as default.\")\n",
    "            steps = 10\n",
    "        self._steps = steps\n",
    "        \n",
    "        with open(self._file, \"rbU\") as f:\n",
    "            self._num_words = sum(1 for _ in f)\n",
    "                           \n",
    "        self.divide_dictionary()\n",
    "        \n",
    "    @property\n",
    "    def file(self):\n",
    "        return self._file\n",
    "\n",
    "    @property\n",
    "    def steps(self):\n",
    "        return self._steps\n",
    "\n",
    "    @property\n",
    "    def auxiliary_dictionaries(self):\n",
    "        return self._auxiliary_dictionaries\n",
    "\n",
    "    @auxiliary_dictionaries.setter\n",
    "    def auxiliary_dictionaries(self, dictionaries_list):\n",
    "        self._auxiliary_dictionaries = dictionaries_list\n",
    "\n",
    "    @property\n",
    "    def dictionary(self):\n",
    "        return self._words\n",
    "\n",
    "    @property\n",
    "    def num_words(self):\n",
    "        return self._num_words\n",
    "\n",
    "    @property\n",
    "    def steps_thresholds(self):\n",
    "        return self._steps_thresholds\n",
    "\n",
    "    @property\n",
    "    def steps_lines(self):\n",
    "        return self._steps_lines\n"
   ]
  },
  {
   "cell_type": "code",
   "execution_count": 25,
   "id": "80efc3c2-6fd6-4a2f-8908-1986f1f4d02f",
   "metadata": {},
   "outputs": [],
   "source": [
    "# /home/silvio/miniconda3/envs/classy3/prg/config/new_dic.txt\n",
    "CONFIG_DIR = '/home/silvio/miniconda3/envs/classy3/prg/config/'\n",
    "STOPWORD_ES = 'stopwords_es.txt'\n",
    "STOPWORD_RED = 'stopwords_reddit.txt'\n",
    "DICTIONARY = 'new_dic.txt'\n",
    "\n",
    "dictionary_es = os.path.join(CONFIG_DIR, DICTIONARY)\n",
    "stopwords_files = [os.path.join(CONFIG_DIR, STOPWORD_ES),\n",
    "                  os.path.join(CONFIG_DIR,STOPWORD_RED)]"
   ]
  },
  {
   "cell_type": "code",
   "execution_count": 26,
   "id": "0f260a5c-66c7-4afb-877c-823f3c07be78",
   "metadata": {},
   "outputs": [
    {
     "data": {
      "text/html": [
       "<pre style=\"white-space:pre;overflow-x:auto;line-height:normal;font-family:Menlo,'DejaVu Sans Mono',consolas,'Courier New',monospace\"><span style=\"color: #800080; text-decoration-color: #800080\">/home/silvio/miniconda3/envs/classy3/prg/config/</span><span style=\"color: #ff00ff; text-decoration-color: #ff00ff\">new_dic.txt</span>\n",
       "</pre>\n"
      ],
      "text/plain": [
       "\u001b[35m/home/silvio/miniconda3/envs/classy3/prg/config/\u001b[0m\u001b[95mnew_dic.txt\u001b[0m\n"
      ]
     },
     "metadata": {},
     "output_type": "display_data"
    }
   ],
   "source": [
    "print(dictionary_es)"
   ]
  },
  {
   "cell_type": "code",
   "execution_count": 27,
   "id": "f5fe8cae-6c51-4d79-9e85-5f7aa3ee80c7",
   "metadata": {},
   "outputs": [
    {
     "data": {
      "text/html": [
       "<pre style=\"white-space:pre;overflow-x:auto;line-height:normal;font-family:Menlo,'DejaVu Sans Mono',consolas,'Courier New',monospace\">\n",
       "</pre>\n"
      ],
      "text/plain": [
       "\n"
      ]
     },
     "metadata": {},
     "output_type": "display_data"
    },
    {
     "data": {
      "text/html": [
       "<pre style=\"white-space:pre;overflow-x:auto;line-height:normal;font-family:Menlo,'DejaVu Sans Mono',consolas,'Courier New',monospace\">\n",
       "</pre>\n"
      ],
      "text/plain": [
       "\n"
      ]
     },
     "metadata": {},
     "output_type": "display_data"
    },
    {
     "data": {
      "text/html": [
       "<pre style=\"white-space:pre;overflow-x:auto;line-height:normal;font-family:Menlo,'DejaVu Sans Mono',consolas,'Courier New',monospace\">\n",
       "</pre>\n"
      ],
      "text/plain": [
       "\n"
      ]
     },
     "metadata": {},
     "output_type": "display_data"
    },
    {
     "data": {
      "text/html": [
       "<pre style=\"white-space:pre;overflow-x:auto;line-height:normal;font-family:Menlo,'DejaVu Sans Mono',consolas,'Courier New',monospace\">\n",
       "</pre>\n"
      ],
      "text/plain": [
       "\n"
      ]
     },
     "metadata": {},
     "output_type": "display_data"
    },
    {
     "data": {
      "text/html": [
       "<pre style=\"white-space:pre;overflow-x:auto;line-height:normal;font-family:Menlo,'DejaVu Sans Mono',consolas,'Courier New',monospace\">\n",
       "</pre>\n"
      ],
      "text/plain": [
       "\n"
      ]
     },
     "metadata": {},
     "output_type": "display_data"
    },
    {
     "data": {
      "text/html": [
       "<pre style=\"white-space:pre;overflow-x:auto;line-height:normal;font-family:Menlo,'DejaVu Sans Mono',consolas,'Courier New',monospace\">\n",
       "</pre>\n"
      ],
      "text/plain": [
       "\n"
      ]
     },
     "metadata": {},
     "output_type": "display_data"
    },
    {
     "data": {
      "text/html": [
       "<pre style=\"white-space:pre;overflow-x:auto;line-height:normal;font-family:Menlo,'DejaVu Sans Mono',consolas,'Courier New',monospace\">\n",
       "</pre>\n"
      ],
      "text/plain": [
       "\n"
      ]
     },
     "metadata": {},
     "output_type": "display_data"
    },
    {
     "data": {
      "text/html": [
       "<pre style=\"white-space:pre;overflow-x:auto;line-height:normal;font-family:Menlo,'DejaVu Sans Mono',consolas,'Courier New',monospace\">\n",
       "</pre>\n"
      ],
      "text/plain": [
       "\n"
      ]
     },
     "metadata": {},
     "output_type": "display_data"
    },
    {
     "data": {
      "text/html": [
       "<pre style=\"white-space:pre;overflow-x:auto;line-height:normal;font-family:Menlo,'DejaVu Sans Mono',consolas,'Courier New',monospace\">\n",
       "</pre>\n"
      ],
      "text/plain": [
       "\n"
      ]
     },
     "metadata": {},
     "output_type": "display_data"
    },
    {
     "data": {
      "text/html": [
       "<pre style=\"white-space:pre;overflow-x:auto;line-height:normal;font-family:Menlo,'DejaVu Sans Mono',consolas,'Courier New',monospace\">\n",
       "</pre>\n"
      ],
      "text/plain": [
       "\n"
      ]
     },
     "metadata": {},
     "output_type": "display_data"
    }
   ],
   "source": [
    "dictionary = Dictionaries(dictionary_es)"
   ]
  },
  {
   "cell_type": "code",
   "execution_count": 29,
   "id": "ec605a80-d86e-41ce-b91c-3a5fe7269306",
   "metadata": {},
   "outputs": [
    {
     "data": {
      "text/html": [
       "<pre style=\"white-space:pre;overflow-x:auto;line-height:normal;font-family:Menlo,'DejaVu Sans Mono',consolas,'Courier New',monospace\"><span style=\"font-weight: bold\">{</span>\n",
       "    <span style=\"color: #008000; text-decoration-color: #008000\">'_file'</span>: <span style=\"color: #008000; text-decoration-color: #008000\">'/home/silvio/miniconda3/envs/classy3/prg/config/new_dic.txt'</span>,\n",
       "    <span style=\"color: #008000; text-decoration-color: #008000\">'_steps'</span>: <span style=\"color: #008080; text-decoration-color: #008080; font-weight: bold\">10</span>,\n",
       "    <span style=\"color: #008000; text-decoration-color: #008000\">'_block_size'</span>: <span style=\"color: #008080; text-decoration-color: #008080; font-weight: bold\">13483</span>,\n",
       "    <span style=\"color: #008000; text-decoration-color: #008000\">'_auxiliary_dictionaries'</span>: <span style=\"font-weight: bold\">[]</span>,\n",
       "    <span style=\"color: #008000; text-decoration-color: #008000\">'_words'</span>: <span style=\"color: #800080; text-decoration-color: #800080; font-style: italic\">None</span>,\n",
       "    <span style=\"color: #008000; text-decoration-color: #008000\">'_num_words'</span>: <span style=\"color: #008080; text-decoration-color: #008080; font-weight: bold\">134839</span>,\n",
       "    <span style=\"color: #008000; text-decoration-color: #008000\">'_steps_thresholds'</span>: <span style=\"font-weight: bold\">[</span><span style=\"color: #008080; text-decoration-color: #008080; font-weight: bold\">226935</span>, <span style=\"color: #008080; text-decoration-color: #008080; font-weight: bold\">81631</span>, <span style=\"color: #008080; text-decoration-color: #008080; font-weight: bold\">42448</span>, <span style=\"color: #008080; text-decoration-color: #008080; font-weight: bold\">26122</span>, <span style=\"color: #008080; text-decoration-color: #008080; font-weight: bold\">17958</span>, <span style=\"color: #008080; text-decoration-color: #008080; font-weight: bold\">12332</span>, <span style=\"color: #008080; text-decoration-color: #008080; font-weight: bold\">8597</span>, <span style=\"color: #008080; text-decoration-color: #008080; font-weight: bold\">6530</span>, <span style=\"color: #008080; text-decoration-color: #008080; font-weight: bold\">4897</span>, <span style=\"color: #008080; text-decoration-color: #008080; font-weight: bold\">1632</span><span style=\"font-weight: bold\">]</span>,\n",
       "    <span style=\"color: #008000; text-decoration-color: #008000\">'_steps_lines'</span>: <span style=\"font-weight: bold\">[</span><span style=\"color: #008080; text-decoration-color: #008080; font-weight: bold\">13492</span>, <span style=\"color: #008080; text-decoration-color: #008080; font-weight: bold\">26975</span>, <span style=\"color: #008080; text-decoration-color: #008080; font-weight: bold\">40458</span>, <span style=\"color: #008080; text-decoration-color: #008080; font-weight: bold\">53941</span>, <span style=\"color: #008080; text-decoration-color: #008080; font-weight: bold\">67424</span>, <span style=\"color: #008080; text-decoration-color: #008080; font-weight: bold\">80907</span>, <span style=\"color: #008080; text-decoration-color: #008080; font-weight: bold\">94390</span>, <span style=\"color: #008080; text-decoration-color: #008080; font-weight: bold\">107873</span>, <span style=\"color: #008080; text-decoration-color: #008080; font-weight: bold\">121356</span>, <span style=\"color: #008080; text-decoration-color: #008080; font-weight: bold\">134839</span><span style=\"font-weight: bold\">]</span>\n",
       "<span style=\"font-weight: bold\">}</span>\n",
       "</pre>\n"
      ],
      "text/plain": [
       "\u001b[1m{\u001b[0m\n",
       "    \u001b[32m'_file'\u001b[0m: \u001b[32m'/home/silvio/miniconda3/envs/classy3/prg/config/new_dic.txt'\u001b[0m,\n",
       "    \u001b[32m'_steps'\u001b[0m: \u001b[1;36m10\u001b[0m,\n",
       "    \u001b[32m'_block_size'\u001b[0m: \u001b[1;36m13483\u001b[0m,\n",
       "    \u001b[32m'_auxiliary_dictionaries'\u001b[0m: \u001b[1m[\u001b[0m\u001b[1m]\u001b[0m,\n",
       "    \u001b[32m'_words'\u001b[0m: \u001b[3;35mNone\u001b[0m,\n",
       "    \u001b[32m'_num_words'\u001b[0m: \u001b[1;36m134839\u001b[0m,\n",
       "    \u001b[32m'_steps_thresholds'\u001b[0m: \u001b[1m[\u001b[0m\u001b[1;36m226935\u001b[0m, \u001b[1;36m81631\u001b[0m, \u001b[1;36m42448\u001b[0m, \u001b[1;36m26122\u001b[0m, \u001b[1;36m17958\u001b[0m, \u001b[1;36m12332\u001b[0m, \u001b[1;36m8597\u001b[0m, \u001b[1;36m6530\u001b[0m, \u001b[1;36m4897\u001b[0m, \u001b[1;36m1632\u001b[0m\u001b[1m]\u001b[0m,\n",
       "    \u001b[32m'_steps_lines'\u001b[0m: \u001b[1m[\u001b[0m\u001b[1;36m13492\u001b[0m, \u001b[1;36m26975\u001b[0m, \u001b[1;36m40458\u001b[0m, \u001b[1;36m53941\u001b[0m, \u001b[1;36m67424\u001b[0m, \u001b[1;36m80907\u001b[0m, \u001b[1;36m94390\u001b[0m, \u001b[1;36m107873\u001b[0m, \u001b[1;36m121356\u001b[0m, \u001b[1;36m134839\u001b[0m\u001b[1m]\u001b[0m\n",
       "\u001b[1m}\u001b[0m\n"
      ]
     },
     "metadata": {},
     "output_type": "display_data"
    }
   ],
   "source": [
    "print(vars(dictionary))"
   ]
  }
 ],
 "metadata": {
  "kernelspec": {
   "display_name": "Python 3 (ipykernel)",
   "language": "python",
   "name": "python3"
  },
  "language_info": {
   "codemirror_mode": {
    "name": "ipython",
    "version": 3
   },
   "file_extension": ".py",
   "mimetype": "text/x-python",
   "name": "python",
   "nbconvert_exporter": "python",
   "pygments_lexer": "ipython3",
   "version": "3.10.8"
  }
 },
 "nbformat": 4,
 "nbformat_minor": 5
}
