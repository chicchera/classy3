{
 "cells": [
  {
   "cell_type": "code",
   "execution_count": 1,
   "id": "b8d26856-4a28-4321-9f4a-3112a0fd0ba7",
   "metadata": {},
   "outputs": [],
   "source": [
    "import linecache\n",
    "from symspellpy import SymSpell, Verbosity\n",
    "from rich import print\n",
    "import inspect\n",
    "import os\n",
    "from collections import Counter\n",
    "import re\n",
    "import textstat\n",
    "textstat.set_lang('es')"
   ]
  },
  {
   "cell_type": "code",
   "execution_count": null,
   "id": "8391f8ac-76aa-48cc-ad26-37385a3a096b",
   "metadata": {},
   "outputs": [],
   "source": []
  },
  {
   "cell_type": "code",
   "execution_count": 13,
   "id": "60f458f2-3c66-44f6-9c7d-226b859bd48d",
   "metadata": {},
   "outputs": [],
   "source": [
    "class Comprensibility_index:\n",
    "    def __init__(self, lang, steps=10):\n",
    "        self._lang = lang\n",
    "        self._dictionary_file = None\n",
    "        self._dictionary = None\n",
    "        self._dictionay_terms = 0\n",
    "        self._dictionary_steps = steps\n",
    "        self._dictionary_thresholds = []\n",
    "        self._stopwords = None\n",
    "        self._stopwords_files = []\n",
    "        self._misspellings = []\n",
    "        self._num_words = 0\n",
    "        self._num_stopwords = 0\n",
    "        self._text = \"\""
   ]
  },
  {
   "cell_type": "code",
   "execution_count": null,
   "id": "2334b850-9540-4e67-b3e8-07cf3c9b12e9",
   "metadata": {},
   "outputs": [],
   "source": [
    "    def get_frequency(line_num):\n",
    "        line = linecache.getline(self._dictionary_file, line_num)\n",
    "        if line:\n",
    "        words = line.split()\n",
    "        if len(words) >= 2:\n",
    "            second_word = words[1]\n",
    "            try:\n",
    "                second_word_as_int = int(second_word)\n",
    "            except ValueError:\n",
    "                print(\"Second word is not an integer.\")\n",
    "        else:\n",
    "            print(\"Line doesn't contain at least two words.\")\n",
    "    return second_word_as_int\n",
    "        "
   ]
  },
  {
   "cell_type": "code",
   "execution_count": 12,
   "id": "3f131382-2863-4601-9f7b-7c555fc15ec8",
   "metadata": {},
   "outputs": [],
   "source": [
    "    @property\n",
    "    def stopwords_files(self):\n",
    "        return self._stopwords_files\n",
    "    \n",
    "    @stopwords_files.setter\n",
    "    def stopwords_files(self, files_list):\n",
    "        self._stopwords_files = files_list\n",
    "        \n",
    "        for file_path in self._stopwords_files:\n",
    "            try:\n",
    "                # Open and read the file\n",
    "                with open(file_path, 'r', encoding='utf-8') as file:\n",
    "                    lines = file.readlines()\n",
    "                    # Update the Counter with words (stripped of whitespace and newline characters)\n",
    "                    for line in lines:\n",
    "                        word = line.strip()\n",
    "                        if word:\n",
    "                            stopwords.update([word.lower()])\n",
    "            except FileNotFoundError:\n",
    "                print(f\"File not found: {file_path}\")\n",
    "            except Exception as e:\n",
    "                print(f\"An error occurred while reading {file_path}: {str(e)}\")\n",
    "\n",
    "        self._stopwords = stopwords\n",
    "    "
   ]
  },
  {
   "cell_type": "code",
   "execution_count": null,
   "id": "9137e583-b1a5-4fe3-8309-4d76ef4f90a2",
   "metadata": {},
   "outputs": [],
   "source": [
    "    @property\n",
    "    def dictionary_steps(self):\n",
    "        return self._dictionary_steps\n",
    "    \n",
    "    @dictionary_steps.setter\n",
    "    def dictionary_steps(self, number_of_steps):\n",
    "        self._dictionary_steps = number_of_steps"
   ]
  },
  {
   "cell_type": "code",
   "execution_count": 9,
   "id": "3eeb2798-e5d4-43d6-ab6d-95c1880cc281",
   "metadata": {},
   "outputs": [],
   "source": [
    "    @property\n",
    "    def dictionary_file(self):\n",
    "        return self._dictionary\n",
    "\n",
    "    @dictionary.setter\n",
    "    def dictionary_file(self, file):\n",
    "        self._dictionary_file = file\n",
    "        with open(file, \"rbU\") as f:\n",
    "            self._dictionay_terms = sum(1 for _ in f)\n",
    "        self._dictionary_block_size = self._dictionay_terms //  self._dictionary_steps\n",
    "        \n",
    "        line_numbers = []\n",
    "        thresholds = []\n",
    "        for i in range(1, self._dictionary_steps):\n",
    "            line_numbers.append(dictionary_block_size * i)\n",
    "            self._dictionary_thresholds.append(get_frequency(self._dictionary_steps))\n",
    "        self._dictionary_thresholds.append(self._dictionay_terms)"
   ]
  },
  {
   "cell_type": "code",
   "execution_count": 10,
   "id": "c5610dae-90a8-4301-8919-823ff564b39a",
   "metadata": {},
   "outputs": [],
   "source": [
    "comprension = Comprensibility_index('es')"
   ]
  },
  {
   "cell_type": "code",
   "execution_count": null,
   "id": "3bde92e1-dc0e-4b63-b7bf-7299b2ffe429",
   "metadata": {},
   "outputs": [],
   "source": []
  }
 ],
 "metadata": {
  "kernelspec": {
   "display_name": "Python 3 (ipykernel)",
   "language": "python",
   "name": "python3"
  },
  "language_info": {
   "codemirror_mode": {
    "name": "ipython",
    "version": 3
   },
   "file_extension": ".py",
   "mimetype": "text/x-python",
   "name": "python",
   "nbconvert_exporter": "python",
   "pygments_lexer": "ipython3",
   "version": "3.10.8"
  }
 },
 "nbformat": 4,
 "nbformat_minor": 5
}
