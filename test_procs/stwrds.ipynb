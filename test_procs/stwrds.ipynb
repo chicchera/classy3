{
 "cells": [
  {
   "cell_type": "code",
   "execution_count": 1,
   "id": "8ab708cf-7dc8-4d44-98d8-d055ed427f7d",
   "metadata": {},
   "outputs": [
    {
     "name": "stdout",
     "output_type": "stream",
     "text": [
      "/home/silvio/miniconda3/envs/classy3/prg\n"
     ]
    }
   ],
   "source": [
    "%cd /home/silvio/miniconda3/envs/classy3/prg\n",
    "\n",
    "import linecache\n",
    "from symspellpy import SymSpell, Verbosity\n",
    "from rich import print\n",
    "import inspect\n",
    "import os\n",
    "from collections import Counter\n",
    "import re\n",
    "import textstat\n",
    "from icecream import ic\n",
    "from utils.file_utils import file_validate, diy_file_validate"
   ]
  },
  {
   "cell_type": "code",
   "execution_count": 2,
   "id": "dadbfcc3-5782-4401-95a6-7d106194ab47",
   "metadata": {},
   "outputs": [],
   "source": [
    "CONFIG_DIR = '/home/silvio/miniconda3/envs/classy3/prg/config/'\n",
    "STOPWORD_ES = 'stopwords_es.txt'\n",
    "STOPWORD_RED = 'stopwords_reddit.txt'\n",
    "DICTIONARY = 'new_dic.txt'\n",
    "\n",
    "dictionary = os.path.join(CONFIG_DIR, DICTIONARY)\n",
    "stopwords_files = [os.path.join(CONFIG_DIR, STOPWORD_ES),\n",
    "                  os.path.join(CONFIG_DIR,STOPWORD_RED)]"
   ]
  },
  {
   "cell_type": "code",
   "execution_count": 12,
   "id": "3448c74f-7526-4881-a1f0-91064bee7b78",
   "metadata": {},
   "outputs": [],
   "source": [
    "class Stopwords:\n",
    "    def __init__(self):\n",
    "        self._stopwords = Counter()\n",
    "        self._files = []\n",
    "        self._stopwords_set = set()\n",
    "        \n",
    "    def load_stopwords(self):\n",
    "        if not self._files:\n",
    "            return\n",
    "\n",
    "        self._stopwords = Counter()\n",
    "\n",
    "        for filename in self._files:\n",
    "            success, message = diy_file_validate(filename)\n",
    "            if not success:\n",
    "                print(message)\n",
    "                continue\n",
    "\n",
    "            with open(filename, 'r', encoding='utf-8') as f:\n",
    "                lines = f.readlines()\n",
    "                for line in lines:\n",
    "                    word = line.strip()\n",
    "                    if word:\n",
    "                        self._stopwords.update({word.lower(): 1})\n",
    "\n",
    "        self._stopwords_set = set(self._stopwords.keys())\n",
    "        \n",
    "    @property\n",
    "    def files(self) -> list:\n",
    "        return self._files\n",
    "\n",
    "    @files.setter\n",
    "    def files(self, files_list: list):\n",
    "        self._files = files_list\n",
    "        self.load_stopwords()\n",
    "\n",
    "    @property\n",
    "    def stopwords(self):\n",
    "        return self._stopwords\n",
    "\n",
    "    @property\n",
    "    def stopwords_set(self) -> set:\n",
    "        return self._stopwords_set   \n",
    "        "
   ]
  },
  {
   "cell_type": "code",
   "execution_count": 13,
   "id": "7b33cdea-2f3b-488b-bfc1-188b28fefd77",
   "metadata": {},
   "outputs": [],
   "source": [
    "sw = Stopwords"
   ]
  },
  {
   "cell_type": "code",
   "execution_count": 14,
   "id": "8081848b-539f-4caa-bfc6-fdfa05ebdb01",
   "metadata": {},
   "outputs": [],
   "source": [
    "sw.files = stopwords_files"
   ]
  },
  {
   "cell_type": "code",
   "execution_count": 15,
   "id": "62fbca1e-df04-4ed9-8927-672962483f52",
   "metadata": {},
   "outputs": [
    {
     "data": {
      "text/html": [
       "<pre style=\"white-space:pre;overflow-x:auto;line-height:normal;font-family:Menlo,'DejaVu Sans Mono',consolas,'Courier New',monospace\"><span style=\"font-weight: bold\">&lt;</span><span style=\"color: #ff00ff; text-decoration-color: #ff00ff; font-weight: bold\">property</span><span style=\"color: #000000; text-decoration-color: #000000\"> object at </span><span style=\"color: #008080; text-decoration-color: #008080; font-weight: bold\">0x7f99a81c57b0</span><span style=\"font-weight: bold\">&gt;</span>\n",
       "</pre>\n"
      ],
      "text/plain": [
       "\u001b[1m<\u001b[0m\u001b[1;95mproperty\u001b[0m\u001b[39m object at \u001b[0m\u001b[1;36m0x7f99a81c57b0\u001b[0m\u001b[1m>\u001b[0m\n"
      ]
     },
     "metadata": {},
     "output_type": "display_data"
    },
    {
     "data": {
      "text/html": [
       "<pre style=\"white-space:pre;overflow-x:auto;line-height:normal;font-family:Menlo,'DejaVu Sans Mono',consolas,'Courier New',monospace\"><span style=\"font-weight: bold\">&lt;</span><span style=\"color: #ff00ff; text-decoration-color: #ff00ff; font-weight: bold\">class</span><span style=\"color: #000000; text-decoration-color: #000000\"> </span><span style=\"color: #008000; text-decoration-color: #008000\">'property'</span><span style=\"font-weight: bold\">&gt;</span>\n",
       "</pre>\n"
      ],
      "text/plain": [
       "\u001b[1m<\u001b[0m\u001b[1;95mclass\u001b[0m\u001b[39m \u001b[0m\u001b[32m'property'\u001b[0m\u001b[1m>\u001b[0m\n"
      ]
     },
     "metadata": {},
     "output_type": "display_data"
    },
    {
     "data": {
      "text/html": [
       "<pre style=\"white-space:pre;overflow-x:auto;line-height:normal;font-family:Menlo,'DejaVu Sans Mono',consolas,'Courier New',monospace\"><span style=\"font-weight: bold\">&lt;</span><span style=\"color: #ff00ff; text-decoration-color: #ff00ff; font-weight: bold\">property</span><span style=\"color: #000000; text-decoration-color: #000000\"> object at </span><span style=\"color: #008080; text-decoration-color: #008080; font-weight: bold\">0x7f99ab984c70</span><span style=\"font-weight: bold\">&gt;</span>\n",
       "</pre>\n"
      ],
      "text/plain": [
       "\u001b[1m<\u001b[0m\u001b[1;95mproperty\u001b[0m\u001b[39m object at \u001b[0m\u001b[1;36m0x7f99ab984c70\u001b[0m\u001b[1m>\u001b[0m\n"
      ]
     },
     "metadata": {},
     "output_type": "display_data"
    }
   ],
   "source": [
    "print(sw.stopwords)\n",
    "print(type(sw.stopwords_set))\n",
    "print(sw.stopwords_set)"
   ]
  },
  {
   "cell_type": "code",
   "execution_count": null,
   "id": "e887ff1b-6a0e-416f-9861-eea3b8c3abeb",
   "metadata": {},
   "outputs": [],
   "source": []
  }
 ],
 "metadata": {
  "kernelspec": {
   "display_name": "Python 3 (ipykernel)",
   "language": "python",
   "name": "python3"
  },
  "language_info": {
   "codemirror_mode": {
    "name": "ipython",
    "version": 3
   },
   "file_extension": ".py",
   "mimetype": "text/x-python",
   "name": "python",
   "nbconvert_exporter": "python",
   "pygments_lexer": "ipython3",
   "version": "3.10.8"
  }
 },
 "nbformat": 4,
 "nbformat_minor": 5
}
