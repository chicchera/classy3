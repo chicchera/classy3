{
 "cells": [
  {
   "cell_type": "code",
   "execution_count": 1,
   "id": "8ab708cf-7dc8-4d44-98d8-d055ed427f7d",
   "metadata": {},
   "outputs": [
    {
     "name": "stdout",
     "output_type": "stream",
     "text": [
      "/home/silvio/miniconda3/envs/classy3/prg\n"
     ]
    }
   ],
   "source": [
    "%cd /home/silvio/miniconda3/envs/classy3/prg\n",
    "\n",
    "import linecache\n",
    "from symspellpy import SymSpell, Verbosity\n",
    "from rich import print\n",
    "import inspect\n",
    "import os\n",
    "from collections import Counter\n",
    "import re\n",
    "import textstat\n",
    "from icecream import ic\n",
    "from utils.file_utils import file_validate, diy_file_validate"
   ]
  },
  {
   "cell_type": "code",
   "execution_count": 2,
   "id": "dadbfcc3-5782-4401-95a6-7d106194ab47",
   "metadata": {},
   "outputs": [],
   "source": [
    "CONFIG_DIR = '/home/silvio/miniconda3/envs/classy3/prg/config/'\n",
    "STOPWORD_ES = 'stopwords_es.txt'\n",
    "STOPWORD_RED = 'stopwords_reddit.txt'\n",
    "DICTIONARY = 'new_dic.txt'\n",
    "\n",
    "dictionary = os.path.join(CONFIG_DIR, DICTIONARY)\n",
    "stopwords_files = [os.path.join(CONFIG_DIR, STOPWORD_ES),\n",
    "                  os.path.join(CONFIG_DIR,STOPWORD_RED)]"
   ]
  },
  {
   "cell_type": "code",
   "execution_count": 24,
   "id": "3448c74f-7526-4881-a1f0-91064bee7b78",
   "metadata": {},
   "outputs": [],
   "source": [
    "class Stopwords:\n",
    "    def __init__(self):\n",
    "        self._stopwords = Counter()\n",
    "        self._files = []\n",
    "        _stopwords_set = set()\n",
    "        \n",
    "    def load_stopwords(self):\n",
    "        if not self._files:\n",
    "            return\n",
    "\n",
    "        self._stopwords = Counter()\n",
    "\n",
    "        for filename in self._files:\n",
    "            success, message = diy_file_validate(filename)\n",
    "            if not success:\n",
    "                print(message)\n",
    "                continue\n",
    "\n",
    "            with open(filename, 'r', encoding='utf-8') as f:\n",
    "                lines = f.readlines()\n",
    "                for line in lines:\n",
    "                    word = line.strip()\n",
    "                    if word:\n",
    "                        self._stopwords.update({word.lower(): 1})\n",
    "\n",
    "        self._stopwords_set = set(self._stopwords.keys())\n",
    "        \n",
    "    @property\n",
    "    def files(self):\n",
    "        return self._files\n",
    "\n",
    "    @files.setter\n",
    "    def files(self, files_list):\n",
    "        self._files = files_list\n",
    "        self.load_stopwords()\n",
    "\n",
    "    @property\n",
    "    def stopwords(self):\n",
    "        return self._stopwords\n",
    "\n",
    "    @property\n",
    "    def stopwords_set(self):\n",
    "        return self._stopwords_set   \n",
    "        "
   ]
  },
  {
   "cell_type": "code",
   "execution_count": 25,
   "id": "7b33cdea-2f3b-488b-bfc1-188b28fefd77",
   "metadata": {},
   "outputs": [],
   "source": [
    "sw = Stopwords"
   ]
  },
  {
   "cell_type": "code",
   "execution_count": 26,
   "id": "8081848b-539f-4caa-bfc6-fdfa05ebdb01",
   "metadata": {},
   "outputs": [],
   "source": [
    "sw.files = stopwords_files"
   ]
  },
  {
   "cell_type": "code",
   "execution_count": 23,
   "id": "2ada6c9f-cbab-4436-8956-c35cd39511d4",
   "metadata": {},
   "outputs": [
    {
     "name": "stderr",
     "output_type": "stream",
     "text": [
      "ic| sw.stopwords: <property object at 0x7fb6bc0b2200>\n"
     ]
    },
    {
     "data": {
      "text/html": [
       "<pre style=\"white-space:pre;overflow-x:auto;line-height:normal;font-family:Menlo,'DejaVu Sans Mono',consolas,'Courier New',monospace\"><span style=\"color: #800080; text-decoration-color: #800080; font-weight: bold\">mappingproxy</span><span style=\"font-weight: bold\">({</span>\n",
       "    <span style=\"color: #008000; text-decoration-color: #008000\">'__module__'</span>: <span style=\"color: #008000; text-decoration-color: #008000\">'__main__'</span>,\n",
       "    <span style=\"color: #008000; text-decoration-color: #008000\">'__init__'</span>: <span style=\"font-weight: bold\">&lt;</span><span style=\"color: #ff00ff; text-decoration-color: #ff00ff; font-weight: bold\">function</span><span style=\"color: #000000; text-decoration-color: #000000\"> Stopwords.__init__ at </span><span style=\"color: #008080; text-decoration-color: #008080; font-weight: bold\">0x7fb6c0a45c60</span><span style=\"color: #000000; text-decoration-color: #000000\">&gt;,</span>\n",
       "<span style=\"color: #000000; text-decoration-color: #000000\">    </span><span style=\"color: #008000; text-decoration-color: #008000\">'load_stopwords'</span><span style=\"color: #000000; text-decoration-color: #000000\">: &lt;function Stopwords.load_stopwords at </span><span style=\"color: #008080; text-decoration-color: #008080; font-weight: bold\">0x7fb6c0a45cf0</span><span style=\"color: #000000; text-decoration-color: #000000\">&gt;,</span>\n",
       "<span style=\"color: #000000; text-decoration-color: #000000\">    </span><span style=\"color: #008000; text-decoration-color: #008000\">'files'</span><span style=\"color: #000000; text-decoration-color: #000000\">: </span><span style=\"color: #000000; text-decoration-color: #000000; font-weight: bold\">[</span>\n",
       "<span style=\"color: #000000; text-decoration-color: #000000\">        </span><span style=\"color: #008000; text-decoration-color: #008000\">'/home/silvio/miniconda3/envs/classy3/prg/config/stopwords_es.txt'</span><span style=\"color: #000000; text-decoration-color: #000000\">,</span>\n",
       "<span style=\"color: #000000; text-decoration-color: #000000\">        </span><span style=\"color: #008000; text-decoration-color: #008000\">'/home/silvio/miniconda3/envs/classy3/prg/config/stopwords_reddit.txt'</span>\n",
       "<span style=\"color: #000000; text-decoration-color: #000000\">    </span><span style=\"color: #000000; text-decoration-color: #000000; font-weight: bold\">]</span><span style=\"color: #000000; text-decoration-color: #000000\">,</span>\n",
       "<span style=\"color: #000000; text-decoration-color: #000000\">    </span><span style=\"color: #008000; text-decoration-color: #008000\">'stopwords'</span><span style=\"color: #000000; text-decoration-color: #000000\">: &lt;property object at </span><span style=\"color: #008080; text-decoration-color: #008080; font-weight: bold\">0x7fb6bc0b2200</span><span style=\"color: #000000; text-decoration-color: #000000\">&gt;,</span>\n",
       "<span style=\"color: #000000; text-decoration-color: #000000\">    </span><span style=\"color: #008000; text-decoration-color: #008000\">'__dict__'</span><span style=\"color: #000000; text-decoration-color: #000000\">: &lt;attribute </span><span style=\"color: #008000; text-decoration-color: #008000\">'__dict__'</span><span style=\"color: #000000; text-decoration-color: #000000\"> of </span><span style=\"color: #008000; text-decoration-color: #008000\">'Stopwords'</span><span style=\"color: #000000; text-decoration-color: #000000\"> objects&gt;,</span>\n",
       "<span style=\"color: #000000; text-decoration-color: #000000\">    </span><span style=\"color: #008000; text-decoration-color: #008000\">'__weakref__'</span><span style=\"color: #000000; text-decoration-color: #000000\">: &lt;attribute </span><span style=\"color: #008000; text-decoration-color: #008000\">'__weakref__'</span><span style=\"color: #000000; text-decoration-color: #000000\"> of </span><span style=\"color: #008000; text-decoration-color: #008000\">'Stopwords'</span><span style=\"color: #000000; text-decoration-color: #000000\"> objects</span><span style=\"font-weight: bold\">&gt;</span>,\n",
       "    <span style=\"color: #008000; text-decoration-color: #008000\">'__doc__'</span>: <span style=\"color: #800080; text-decoration-color: #800080; font-style: italic\">None</span>\n",
       "<span style=\"font-weight: bold\">})</span>\n",
       "</pre>\n"
      ],
      "text/plain": [
       "\u001b[1;35mmappingproxy\u001b[0m\u001b[1m(\u001b[0m\u001b[1m{\u001b[0m\n",
       "    \u001b[32m'__module__'\u001b[0m: \u001b[32m'__main__'\u001b[0m,\n",
       "    \u001b[32m'__init__'\u001b[0m: \u001b[1m<\u001b[0m\u001b[1;95mfunction\u001b[0m\u001b[39m Stopwords.__init__ at \u001b[0m\u001b[1;36m0x7fb6c0a45c60\u001b[0m\u001b[39m>,\u001b[0m\n",
       "\u001b[39m    \u001b[0m\u001b[32m'load_stopwords'\u001b[0m\u001b[39m: <function Stopwords.load_stopwords at \u001b[0m\u001b[1;36m0x7fb6c0a45cf0\u001b[0m\u001b[39m>,\u001b[0m\n",
       "\u001b[39m    \u001b[0m\u001b[32m'files'\u001b[0m\u001b[39m: \u001b[0m\u001b[1;39m[\u001b[0m\n",
       "\u001b[39m        \u001b[0m\u001b[32m'/home/silvio/miniconda3/envs/classy3/prg/config/stopwords_es.txt'\u001b[0m\u001b[39m,\u001b[0m\n",
       "\u001b[39m        \u001b[0m\u001b[32m'/home/silvio/miniconda3/envs/classy3/prg/config/stopwords_reddit.txt'\u001b[0m\n",
       "\u001b[39m    \u001b[0m\u001b[1;39m]\u001b[0m\u001b[39m,\u001b[0m\n",
       "\u001b[39m    \u001b[0m\u001b[32m'stopwords'\u001b[0m\u001b[39m: <property object at \u001b[0m\u001b[1;36m0x7fb6bc0b2200\u001b[0m\u001b[39m>,\u001b[0m\n",
       "\u001b[39m    \u001b[0m\u001b[32m'__dict__'\u001b[0m\u001b[39m: <attribute \u001b[0m\u001b[32m'__dict__'\u001b[0m\u001b[39m of \u001b[0m\u001b[32m'Stopwords'\u001b[0m\u001b[39m objects>,\u001b[0m\n",
       "\u001b[39m    \u001b[0m\u001b[32m'__weakref__'\u001b[0m\u001b[39m: <attribute \u001b[0m\u001b[32m'__weakref__'\u001b[0m\u001b[39m of \u001b[0m\u001b[32m'Stopwords'\u001b[0m\u001b[39m objects\u001b[0m\u001b[1m>\u001b[0m,\n",
       "    \u001b[32m'__doc__'\u001b[0m: \u001b[3;35mNone\u001b[0m\n",
       "\u001b[1m}\u001b[0m\u001b[1m)\u001b[0m\n"
      ]
     },
     "metadata": {},
     "output_type": "display_data"
    }
   ],
   "source": [
    "ic(sw.stopwords)\n",
    "print(vars(sw))"
   ]
  },
  {
   "cell_type": "code",
   "execution_count": null,
   "id": "62fbca1e-df04-4ed9-8927-672962483f52",
   "metadata": {},
   "outputs": [],
   "source": []
  }
 ],
 "metadata": {
  "kernelspec": {
   "display_name": "Python 3 (ipykernel)",
   "language": "python",
   "name": "python3"
  },
  "language_info": {
   "codemirror_mode": {
    "name": "ipython",
    "version": 3
   },
   "file_extension": ".py",
   "mimetype": "text/x-python",
   "name": "python",
   "nbconvert_exporter": "python",
   "pygments_lexer": "ipython3",
   "version": "3.10.8"
  }
 },
 "nbformat": 4,
 "nbformat_minor": 5
}
