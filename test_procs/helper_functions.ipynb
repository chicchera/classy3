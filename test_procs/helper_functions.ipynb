{
 "cells": [
  {
   "cell_type": "code",
   "execution_count": null,
   "id": "93d45ba9-fd52-41b1-943a-cbe8a5d16e54",
   "metadata": {},
   "outputs": [],
   "source": [
    "def read_words_and_punctuation(file_path, num_words):\n",
    "    with open(file_path, 'r', encoding='utf-8') as file:\n",
    "        word_count = 0\n",
    "        paragraph = ''\n",
    "        for line in file:\n",
    "            words = line.split()\n",
    "            for word in words:\n",
    "                paragraph += word + ' '  # Include spaces to preserve punctuation\n",
    "                word_count += 1\n",
    "                if word_count >= num_words:\n",
    "                    return paragraph.rstrip()  # Remove the trailing space"
   ]
  },
  {
   "cell_type": "code",
   "execution_count": null,
   "id": "6ddd8478-2a48-48a7-8b06-4c6c1cd7337c",
   "metadata": {},
   "outputs": [],
   "source": [
    "# Example usage:\n",
    "file_path = 'your_novel.txt'\n",
    "num_words_to_read = 50000\n",
    "text = read_words_and_punctuation(file_path, num_words_to_read)\n",
    "\n",
    "# Ensure the text ends with a full stop or a paragraph break\n",
    "if text.endswith('.'):\n",
    "    final_text = text\n",
    "else:\n",
    "    # Find the last full stop in the text, if any\n",
    "    last_full_stop_index = text.rfind('.')\n",
    "    \n",
    "    # Find the last paragraph break in the text, if any\n",
    "    last_paragraph_break_index = text.rfind('\\n')\n",
    "    \n",
    "    # Determine the position of the last meaningful end in the text\n",
    "    if last_full_stop_index > last_paragraph_break_index:\n",
    "        final_text = text[:last_full_stop_index + 1]\n",
    "    else:\n",
    "        final_text = text[:last_paragraph_break_index + 1]\n",
    "\n",
    "print(final_text)"
   ]
  }
 ],
 "metadata": {
  "kernelspec": {
   "display_name": "Python 3 (ipykernel)",
   "language": "python",
   "name": "python3"
  },
  "language_info": {
   "codemirror_mode": {
    "name": "ipython",
    "version": 3
   },
   "file_extension": ".py",
   "mimetype": "text/x-python",
   "name": "python",
   "nbconvert_exporter": "python",
   "pygments_lexer": "ipython3",
   "version": "3.10.8"
  }
 },
 "nbformat": 4,
 "nbformat_minor": 5
}
