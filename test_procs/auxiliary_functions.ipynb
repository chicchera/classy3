{
 "cells": [
  {
   "cell_type": "code",
   "execution_count": null,
   "id": "067832a2-0673-4399-88c0-621fcc4f0a9c",
   "metadata": {},
   "outputs": [],
   "source": [
    "\n",
    "# You are correct that sentences can be delimited in various ways, and not only with a full stop. To handle different sentence delimiters, you can use regular expressions to split the text into sentences. Here's a modified version of the function that accounts for various sentence delimiters:\n",
    "\n",
    "# python\n",
    "# Copy code\n",
    "import re\n",
    "\n",
    "def is_first_word_of_sentence(word, text):\n",
    "    # Define a regular expression pattern to split text into sentences\n",
    "    sentence_delimiters = r'[.!?]'\n",
    "    sentences = re.split(sentence_delimiters, text)\n",
    "\n",
    "    # Iterate through sentences\n",
    "    for sentence in sentences:\n",
    "        # Remove leading/trailing spaces and split into words\n",
    "        words = sentence.strip().split()\n",
    "\n",
    "        # Check if the word is the first word in the current sentence\n",
    "        if words and words[0] == word:\n",
    "            return True\n",
    "\n",
    "    return False"
   ]
  },
  {
   "cell_type": "code",
   "execution_count": 4,
   "id": "4a0000e9-e722-4fe7-96fa-6cfda89effea",
   "metadata": {},
   "outputs": [
    {
     "name": "stdout",
     "output_type": "stream",
     "text": [
      "Average Result: 9.0\n"
     ]
    }
   ],
   "source": [
    "import numpy as np\n",
    "\n",
    "# Your list of thresholds\n",
    "thresholds = [226935, 81631, 42448, 26122, 17958, 12335, 8599, 6530, 4897, 1632]\n",
    "\n",
    "# Convert the list to a numpy array for faster computation\n",
    "thresholds_arr = np.array(thresholds)\n",
    "\n",
    "def classify_and_average(numbers):\n",
    "    # Create a numpy array from the input list of numbers\n",
    "    numbers_arr = np.array(numbers)\n",
    "    \n",
    "    # Use numpy's digitize function to classify the numbers\n",
    "    classes = np.digitize(numbers_arr, thresholds_arr)\n",
    "    \n",
    "    # Calculate the average of the classified results\n",
    "    average_class = sum(classes) / len(classes)\n",
    "    \n",
    "    return average_class\n",
    "\n",
    "# Example usage:\n",
    "input_numbers = [1000, 5000, 10000, 1200, 400, 300]\n",
    "average_result = classify_and_average(input_numbers)\n",
    "\n",
    "print(\"Average Result:\", average_result)\n"
   ]
  }
 ],
 "metadata": {
  "kernelspec": {
   "display_name": "Python 3 (ipykernel)",
   "language": "python",
   "name": "python3"
  },
  "language_info": {
   "codemirror_mode": {
    "name": "ipython",
    "version": 3
   },
   "file_extension": ".py",
   "mimetype": "text/x-python",
   "name": "python",
   "nbconvert_exporter": "python",
   "pygments_lexer": "ipython3",
   "version": "3.10.8"
  }
 },
 "nbformat": 4,
 "nbformat_minor": 5
}
