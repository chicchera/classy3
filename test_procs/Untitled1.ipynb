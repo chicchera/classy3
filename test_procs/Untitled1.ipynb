{
 "cells": [
  {
   "cell_type": "code",
   "execution_count": 4,
   "id": "4a0000e9-e722-4fe7-96fa-6cfda89effea",
   "metadata": {},
   "outputs": [
    {
     "name": "stdout",
     "output_type": "stream",
     "text": [
      "Average Result: 9.0\n"
     ]
    }
   ],
   "source": [
    "import numpy as np\n",
    "\n",
    "# Your list of thresholds\n",
    "thresholds = [226935, 81631, 42448, 26122, 17958, 12335, 8599, 6530, 4897, 1632]\n",
    "\n",
    "# Convert the list to a numpy array for faster computation\n",
    "thresholds_arr = np.array(thresholds)\n",
    "\n",
    "def classify_and_average(numbers):\n",
    "    # Create a numpy array from the input list of numbers\n",
    "    numbers_arr = np.array(numbers)\n",
    "    \n",
    "    # Use numpy's digitize function to classify the numbers\n",
    "    classes = np.digitize(numbers_arr, thresholds_arr)\n",
    "    \n",
    "    # Calculate the average of the classified results\n",
    "    average_class = sum(classes) / len(classes)\n",
    "    \n",
    "    return average_class\n",
    "\n",
    "# Example usage:\n",
    "input_numbers = [1000, 5000, 10000, 1200, 400, 300]\n",
    "average_result = classify_and_average(input_numbers)\n",
    "\n",
    "print(\"Average Result:\", average_result)\n"
   ]
  }
 ],
 "metadata": {
  "kernelspec": {
   "display_name": "Python 3 (ipykernel)",
   "language": "python",
   "name": "python3"
  },
  "language_info": {
   "codemirror_mode": {
    "name": "ipython",
    "version": 3
   },
   "file_extension": ".py",
   "mimetype": "text/x-python",
   "name": "python",
   "nbconvert_exporter": "python",
   "pygments_lexer": "ipython3",
   "version": "3.10.8"
  }
 },
 "nbformat": 4,
 "nbformat_minor": 5
}
