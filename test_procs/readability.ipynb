{
 "cells": [
  {
   "cell_type": "code",
   "execution_count": 46,
   "id": "848c2f6f-e398-4e11-85a8-07e5c9213156",
   "metadata": {},
   "outputs": [],
   "source": [
    "import linecache\n",
    "from symspellpy import SymSpell, Verbosity"
   ]
  },
  {
   "cell_type": "code",
   "execution_count": 47,
   "id": "a97c14ca-f366-4fa3-8538-ee99340536cb",
   "metadata": {},
   "outputs": [
    {
     "data": {
      "text/plain": [
       "True"
      ]
     },
     "execution_count": 47,
     "metadata": {},
     "output_type": "execute_result"
    }
   ],
   "source": [
    "SS_DISTANCE = 1\n",
    "SS_VERBOSITY = Verbosity.CLOSEST\n",
    "DICTIONARY = '/home/silvio/miniconda3/envs/classy3/prg/config/new_dic.txt'\n",
    "RANGES = 10\n",
    "ss = SymSpell(max_dictionary_edit_distance=SS_DISTANCE, prefix_length=7)\n",
    "ss.load_dictionary(DICTIONARY, term_index=0, count_index=1)\n"
   ]
  },
  {
   "cell_type": "code",
   "execution_count": 48,
   "id": "2c3693ea-e0e0-4249-9a39-52b6665c56d3",
   "metadata": {},
   "outputs": [],
   "source": [
    "def dic_terms() -> int:\n",
    "    with open(DICTIONARY, \"rbU\") as f:\n",
    "        num_lines = sum(1 for _ in f)\n",
    "    return num_lines"
   ]
  },
  {
   "cell_type": "code",
   "execution_count": 49,
   "id": "124783f9-8e4c-46b5-859e-d123ed24c7cf",
   "metadata": {},
   "outputs": [
    {
     "name": "stdout",
     "output_type": "stream",
     "text": [
      "134839\n"
     ]
    }
   ],
   "source": [
    "num_terms = dic_terms()\n",
    "print(num_terms)"
   ]
  },
  {
   "cell_type": "code",
   "execution_count": 50,
   "id": "0a410b9b-de7c-4b6e-b4e5-22fc92e85f68",
   "metadata": {},
   "outputs": [
    {
     "name": "stdout",
     "output_type": "stream",
     "text": [
      "13483\n"
     ]
    }
   ],
   "source": [
    "batch = num_terms // RANGES\n",
    "print(batch)"
   ]
  },
  {
   "cell_type": "code",
   "execution_count": 51,
   "id": "128b44ad-1df0-4e40-96da-fe0dcbc4be50",
   "metadata": {},
   "outputs": [],
   "source": [
    "def read_lines_from_file(file_path, line_numbers):\n",
    "    lines = []\n",
    "    for line_number in line_numbers:\n",
    "        line = linecache.getline(file_path, line_number)\n",
    "        if line:\n",
    "            lines.append(line.strip())  # Remove leading/trailing whitespace\n",
    "    return lines"
   ]
  },
  {
   "cell_type": "code",
   "execution_count": 52,
   "id": "5d06045c-be2e-4c83-82d9-2a20dca6fb02",
   "metadata": {},
   "outputs": [],
   "source": [
    "def get_frequency(line_num, file=DICTIONARY):\n",
    "    line = linecache.getline(file, line_num)  # Fix the order of arguments\n",
    "    if line:\n",
    "        words = line.split()\n",
    "        if len(words) >= 2:\n",
    "            second_word = words[1]\n",
    "            try:\n",
    "                second_word_as_int = int(second_word)\n",
    "            except ValueError:\n",
    "                print(\"Second word is not an integer.\")\n",
    "        else:\n",
    "            print(\"Line doesn't contain at least two words.\")\n",
    "    return second_word_as_int"
   ]
  },
  {
   "cell_type": "code",
   "execution_count": 53,
   "id": "dac2cf4b-c577-4ec5-85e8-b0a93f690574",
   "metadata": {},
   "outputs": [
    {
     "name": "stdout",
     "output_type": "stream",
     "text": [
      "[13483, 26966, 40449, 53932, 67415, 80898, 94381, 107864, 121347, 134839]\n",
      "[226935, 81631, 42448, 26122, 17958, 12335, 8599, 6530, 4897, 1632]\n"
     ]
    }
   ],
   "source": [
    "line_numbers = []\n",
    "boundary = []\n",
    "for i in range(1, RANGES):\n",
    "    line_numbers.append(batch * i)\n",
    "    boundary.append(get_frequency(batch * i, file=DICTIONARY))\n",
    "\n",
    "line_numbers.append(num_terms)\n",
    "boundary.append(get_frequency(dic_terms(), file=DICTIONARY))\n",
    "\n",
    "print(line_numbers)\n",
    "print(boundary)\n",
    "    "
   ]
  },
  {
   "cell_type": "code",
   "execution_count": 54,
   "id": "d07d1b32-e7e9-42bb-9dc6-e46011d6c6a5",
   "metadata": {},
   "outputs": [],
   "source": [
    "# Define a function to provide suggestions along with frequencies\n",
    "def suggest_with_frequencies(input_word):\n",
    "    suggestions = ss.lookup(input_word, Verbosity.CLOSEST, max_edit_distance=1)\n",
    "    return suggestions[0].term, suggestions[0].count\n",
    "\n"
   ]
  },
  {
   "cell_type": "code",
   "execution_count": 55,
   "id": "5b80f5f6-aa98-486b-98a0-e865dd565a5a",
   "metadata": {},
   "outputs": [],
   "source": [
    "# Example usage:\n",
    "input_word = \"fabor\""
   ]
  },
  {
   "cell_type": "code",
   "execution_count": 56,
   "id": "8b95141e-7f4d-49cc-a3e0-d73b2daf4d1a",
   "metadata": {},
   "outputs": [
    {
     "name": "stdout",
     "output_type": "stream",
     "text": [
      "('favor', 86953967)\n"
     ]
    }
   ],
   "source": [
    "suggested_words = suggest_with_frequencies(input_word)\n",
    "print(suggested_words)"
   ]
  },
  {
   "cell_type": "code",
   "execution_count": null,
   "id": "230aa5cf-91a7-4d19-a3d3-33f3b7dba4cb",
   "metadata": {},
   "outputs": [],
   "source": []
  }
 ],
 "metadata": {
  "kernelspec": {
   "display_name": "Python 3 (ipykernel)",
   "language": "python",
   "name": "python3"
  },
  "language_info": {
   "codemirror_mode": {
    "name": "ipython",
    "version": 3
   },
   "file_extension": ".py",
   "mimetype": "text/x-python",
   "name": "python",
   "nbconvert_exporter": "python",
   "pygments_lexer": "ipython3",
   "version": "3.10.8"
  }
 },
 "nbformat": 4,
 "nbformat_minor": 5
}
