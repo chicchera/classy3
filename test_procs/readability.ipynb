{
 "cells": [
  {
   "cell_type": "code",
   "execution_count": 43,
   "id": "848c2f6f-e398-4e11-85a8-07e5c9213156",
   "metadata": {},
   "outputs": [],
   "source": [
    "import linecache\n",
    "from symspellpy import SymSpell, Verbosity\n",
    "from rich import print\n",
    "import inspect"
   ]
  },
  {
   "cell_type": "code",
   "execution_count": 5,
   "id": "a97c14ca-f366-4fa3-8538-ee99340536cb",
   "metadata": {},
   "outputs": [
    {
     "data": {
      "text/plain": [
       "True"
      ]
     },
     "execution_count": 5,
     "metadata": {},
     "output_type": "execute_result"
    }
   ],
   "source": [
    "SS_DISTANCE = 1\n",
    "SS_VERBOSITY = Verbosity.CLOSEST\n",
    "DICTIONARY = '/home/silvio/miniconda3/envs/classy3/prg/config/new_dic.txt'\n",
    "RANGES = 10\n",
    "ss = SymSpell(max_dictionary_edit_distance=SS_DISTANCE, prefix_length=7)\n",
    "ss.load_dictionary(DICTIONARY, term_index=0, count_index=1)\n"
   ]
  },
  {
   "cell_type": "code",
   "execution_count": 6,
   "id": "2c3693ea-e0e0-4249-9a39-52b6665c56d3",
   "metadata": {},
   "outputs": [],
   "source": [
    "def dic_terms() -> int:\n",
    "    with open(DICTIONARY, \"rbU\") as f:\n",
    "        num_lines = sum(1 for _ in f)\n",
    "    return num_lines"
   ]
  },
  {
   "cell_type": "code",
   "execution_count": 7,
   "id": "124783f9-8e4c-46b5-859e-d123ed24c7cf",
   "metadata": {},
   "outputs": [
    {
     "name": "stdout",
     "output_type": "stream",
     "text": [
      "134839\n"
     ]
    }
   ],
   "source": [
    "num_terms = dic_terms()\n",
    "print(num_terms)"
   ]
  },
  {
   "cell_type": "code",
   "execution_count": 8,
   "id": "0a410b9b-de7c-4b6e-b4e5-22fc92e85f68",
   "metadata": {},
   "outputs": [
    {
     "name": "stdout",
     "output_type": "stream",
     "text": [
      "13483\n"
     ]
    }
   ],
   "source": [
    "batch = num_terms // RANGES\n",
    "print(batch)"
   ]
  },
  {
   "cell_type": "code",
   "execution_count": 9,
   "id": "128b44ad-1df0-4e40-96da-fe0dcbc4be50",
   "metadata": {},
   "outputs": [],
   "source": [
    "def read_lines_from_file(file_path, line_numbers):\n",
    "    lines = []\n",
    "    for line_number in line_numbers:\n",
    "        line = linecache.getline(file_path, line_number)\n",
    "        if line:\n",
    "            lines.append(line.strip())  # Remove leading/trailing whitespace\n",
    "    return lines"
   ]
  },
  {
   "cell_type": "code",
   "execution_count": 10,
   "id": "5d06045c-be2e-4c83-82d9-2a20dca6fb02",
   "metadata": {},
   "outputs": [],
   "source": [
    "def get_frequency(line_num, file=DICTIONARY):\n",
    "    line = linecache.getline(file, line_num)  # Fix the order of arguments\n",
    "    if line:\n",
    "        words = line.split()\n",
    "        if len(words) >= 2:\n",
    "            second_word = words[1]\n",
    "            try:\n",
    "                second_word_as_int = int(second_word)\n",
    "            except ValueError:\n",
    "                print(\"Second word is not an integer.\")\n",
    "        else:\n",
    "            print(\"Line doesn't contain at least two words.\")\n",
    "    return second_word_as_int"
   ]
  },
  {
   "cell_type": "code",
   "execution_count": 11,
   "id": "dac2cf4b-c577-4ec5-85e8-b0a93f690574",
   "metadata": {},
   "outputs": [
    {
     "name": "stdout",
     "output_type": "stream",
     "text": [
      "[13483, 26966, 40449, 53932, 67415, 80898, 94381, 107864, 121347, 134839]\n",
      "[226935, 81631, 42448, 26122, 17958, 12335, 8599, 6530, 4897, 1632]\n"
     ]
    }
   ],
   "source": [
    "line_numbers = []\n",
    "boundary = []\n",
    "for i in range(1, RANGES):\n",
    "    line_numbers.append(batch * i)\n",
    "    boundary.append(get_frequency(batch * i, file=DICTIONARY))\n",
    "\n",
    "line_numbers.append(num_terms)\n",
    "boundary.append(get_frequency(dic_terms(), file=DICTIONARY))\n",
    "\n",
    "print(line_numbers)\n",
    "print(boundary)\n",
    "    "
   ]
  },
  {
   "cell_type": "code",
   "execution_count": 12,
   "id": "d07d1b32-e7e9-42bb-9dc6-e46011d6c6a5",
   "metadata": {},
   "outputs": [],
   "source": [
    "# Define a function to provide suggestions along with frequencies\n",
    "def suggest_with_frequencies(input_word):\n",
    "    suggestions = ss.lookup(input_word, Verbosity.CLOSEST, max_edit_distance=1)\n",
    "    return suggestions[0].term, suggestions[0].count\n",
    "\n"
   ]
  },
  {
   "cell_type": "code",
   "execution_count": 13,
   "id": "5b80f5f6-aa98-486b-98a0-e865dd565a5a",
   "metadata": {},
   "outputs": [],
   "source": [
    "# Example usage:\n",
    "input_word = \"fabor\""
   ]
  },
  {
   "cell_type": "code",
   "execution_count": 14,
   "id": "8b95141e-7f4d-49cc-a3e0-d73b2daf4d1a",
   "metadata": {},
   "outputs": [
    {
     "name": "stdout",
     "output_type": "stream",
     "text": [
      "('favor', 86953967)\n"
     ]
    }
   ],
   "source": [
    "suggested_words = suggest_with_frequencies(input_word)\n",
    "print(suggested_words)"
   ]
  },
  {
   "cell_type": "code",
   "execution_count": 30,
   "id": "230aa5cf-91a7-4d19-a3d3-33f3b7dba4cb",
   "metadata": {},
   "outputs": [],
   "source": [
    "sentence = \"Esta hes una frase de exemplo\""
   ]
  },
  {
   "cell_type": "code",
   "execution_count": 49,
   "id": "fecbe6b0-8fb9-4382-8e23-c435605327f8",
   "metadata": {},
   "outputs": [],
   "source": [
    "s = ss.lookup_compound(sentence, max_edit_distance=1)"
   ]
  },
  {
   "cell_type": "code",
   "execution_count": 53,
   "id": "08f4d50c-fea9-472e-9d96-bcd69ae69c58",
   "metadata": {},
   "outputs": [
    {
     "ename": "TypeError",
     "evalue": "'module' object is not callable",
     "output_type": "error",
     "traceback": [
      "\u001b[0;31m---------------------------------------------------------------------------\u001b[0m",
      "\u001b[0;31mTypeError\u001b[0m                                 Traceback (most recent call last)",
      "Cell \u001b[0;32mIn[53], line 1\u001b[0m\n\u001b[0;32m----> 1\u001b[0m \u001b[38;5;28mprint\u001b[39m(\u001b[43minspect\u001b[49m\u001b[43m(\u001b[49m\u001b[43ms\u001b[49m\u001b[43m)\u001b[49m)\n",
      "\u001b[0;31mTypeError\u001b[0m: 'module' object is not callable"
     ]
    }
   ],
   "source": [
    "print(inspect(s))"
   ]
  },
  {
   "cell_type": "code",
   "execution_count": 52,
   "id": "f0710aee-835b-4372-ad00-019d317f3e9d",
   "metadata": {},
   "outputs": [
    {
     "data": {
      "text/html": [
       "<pre style=\"white-space:pre;overflow-x:auto;line-height:normal;font-family:Menlo,'DejaVu Sans Mono',consolas,'Courier New',monospace\"><span style=\"font-weight: bold\">[</span>\n",
       "    <span style=\"color: #008000; text-decoration-color: #008000\">'__add__'</span>,\n",
       "    <span style=\"color: #008000; text-decoration-color: #008000\">'__class__'</span>,\n",
       "    <span style=\"color: #008000; text-decoration-color: #008000\">'__class_getitem__'</span>,\n",
       "    <span style=\"color: #008000; text-decoration-color: #008000\">'__contains__'</span>,\n",
       "    <span style=\"color: #008000; text-decoration-color: #008000\">'__delattr__'</span>,\n",
       "    <span style=\"color: #008000; text-decoration-color: #008000\">'__delitem__'</span>,\n",
       "    <span style=\"color: #008000; text-decoration-color: #008000\">'__dir__'</span>,\n",
       "    <span style=\"color: #008000; text-decoration-color: #008000\">'__doc__'</span>,\n",
       "    <span style=\"color: #008000; text-decoration-color: #008000\">'__eq__'</span>,\n",
       "    <span style=\"color: #008000; text-decoration-color: #008000\">'__format__'</span>,\n",
       "    <span style=\"color: #008000; text-decoration-color: #008000\">'__ge__'</span>,\n",
       "    <span style=\"color: #008000; text-decoration-color: #008000\">'__getattribute__'</span>,\n",
       "    <span style=\"color: #008000; text-decoration-color: #008000\">'__getitem__'</span>,\n",
       "    <span style=\"color: #008000; text-decoration-color: #008000\">'__gt__'</span>,\n",
       "    <span style=\"color: #008000; text-decoration-color: #008000\">'__hash__'</span>,\n",
       "    <span style=\"color: #008000; text-decoration-color: #008000\">'__iadd__'</span>,\n",
       "    <span style=\"color: #008000; text-decoration-color: #008000\">'__imul__'</span>,\n",
       "    <span style=\"color: #008000; text-decoration-color: #008000\">'__init__'</span>,\n",
       "    <span style=\"color: #008000; text-decoration-color: #008000\">'__init_subclass__'</span>,\n",
       "    <span style=\"color: #008000; text-decoration-color: #008000\">'__iter__'</span>,\n",
       "    <span style=\"color: #008000; text-decoration-color: #008000\">'__le__'</span>,\n",
       "    <span style=\"color: #008000; text-decoration-color: #008000\">'__len__'</span>,\n",
       "    <span style=\"color: #008000; text-decoration-color: #008000\">'__lt__'</span>,\n",
       "    <span style=\"color: #008000; text-decoration-color: #008000\">'__mul__'</span>,\n",
       "    <span style=\"color: #008000; text-decoration-color: #008000\">'__ne__'</span>,\n",
       "    <span style=\"color: #008000; text-decoration-color: #008000\">'__new__'</span>,\n",
       "    <span style=\"color: #008000; text-decoration-color: #008000\">'__reduce__'</span>,\n",
       "    <span style=\"color: #008000; text-decoration-color: #008000\">'__reduce_ex__'</span>,\n",
       "    <span style=\"color: #008000; text-decoration-color: #008000\">'__repr__'</span>,\n",
       "    <span style=\"color: #008000; text-decoration-color: #008000\">'__reversed__'</span>,\n",
       "    <span style=\"color: #008000; text-decoration-color: #008000\">'__rmul__'</span>,\n",
       "    <span style=\"color: #008000; text-decoration-color: #008000\">'__setattr__'</span>,\n",
       "    <span style=\"color: #008000; text-decoration-color: #008000\">'__setitem__'</span>,\n",
       "    <span style=\"color: #008000; text-decoration-color: #008000\">'__sizeof__'</span>,\n",
       "    <span style=\"color: #008000; text-decoration-color: #008000\">'__str__'</span>,\n",
       "    <span style=\"color: #008000; text-decoration-color: #008000\">'__subclasshook__'</span>,\n",
       "    <span style=\"color: #008000; text-decoration-color: #008000\">'append'</span>,\n",
       "    <span style=\"color: #008000; text-decoration-color: #008000\">'clear'</span>,\n",
       "    <span style=\"color: #008000; text-decoration-color: #008000\">'copy'</span>,\n",
       "    <span style=\"color: #008000; text-decoration-color: #008000\">'count'</span>,\n",
       "    <span style=\"color: #008000; text-decoration-color: #008000\">'extend'</span>,\n",
       "    <span style=\"color: #008000; text-decoration-color: #008000\">'index'</span>,\n",
       "    <span style=\"color: #008000; text-decoration-color: #008000\">'insert'</span>,\n",
       "    <span style=\"color: #008000; text-decoration-color: #008000\">'pop'</span>,\n",
       "    <span style=\"color: #008000; text-decoration-color: #008000\">'remove'</span>,\n",
       "    <span style=\"color: #008000; text-decoration-color: #008000\">'reverse'</span>,\n",
       "    <span style=\"color: #008000; text-decoration-color: #008000\">'sort'</span>\n",
       "<span style=\"font-weight: bold\">]</span>\n",
       "</pre>\n"
      ],
      "text/plain": [
       "\u001b[1m[\u001b[0m\n",
       "    \u001b[32m'__add__'\u001b[0m,\n",
       "    \u001b[32m'__class__'\u001b[0m,\n",
       "    \u001b[32m'__class_getitem__'\u001b[0m,\n",
       "    \u001b[32m'__contains__'\u001b[0m,\n",
       "    \u001b[32m'__delattr__'\u001b[0m,\n",
       "    \u001b[32m'__delitem__'\u001b[0m,\n",
       "    \u001b[32m'__dir__'\u001b[0m,\n",
       "    \u001b[32m'__doc__'\u001b[0m,\n",
       "    \u001b[32m'__eq__'\u001b[0m,\n",
       "    \u001b[32m'__format__'\u001b[0m,\n",
       "    \u001b[32m'__ge__'\u001b[0m,\n",
       "    \u001b[32m'__getattribute__'\u001b[0m,\n",
       "    \u001b[32m'__getitem__'\u001b[0m,\n",
       "    \u001b[32m'__gt__'\u001b[0m,\n",
       "    \u001b[32m'__hash__'\u001b[0m,\n",
       "    \u001b[32m'__iadd__'\u001b[0m,\n",
       "    \u001b[32m'__imul__'\u001b[0m,\n",
       "    \u001b[32m'__init__'\u001b[0m,\n",
       "    \u001b[32m'__init_subclass__'\u001b[0m,\n",
       "    \u001b[32m'__iter__'\u001b[0m,\n",
       "    \u001b[32m'__le__'\u001b[0m,\n",
       "    \u001b[32m'__len__'\u001b[0m,\n",
       "    \u001b[32m'__lt__'\u001b[0m,\n",
       "    \u001b[32m'__mul__'\u001b[0m,\n",
       "    \u001b[32m'__ne__'\u001b[0m,\n",
       "    \u001b[32m'__new__'\u001b[0m,\n",
       "    \u001b[32m'__reduce__'\u001b[0m,\n",
       "    \u001b[32m'__reduce_ex__'\u001b[0m,\n",
       "    \u001b[32m'__repr__'\u001b[0m,\n",
       "    \u001b[32m'__reversed__'\u001b[0m,\n",
       "    \u001b[32m'__rmul__'\u001b[0m,\n",
       "    \u001b[32m'__setattr__'\u001b[0m,\n",
       "    \u001b[32m'__setitem__'\u001b[0m,\n",
       "    \u001b[32m'__sizeof__'\u001b[0m,\n",
       "    \u001b[32m'__str__'\u001b[0m,\n",
       "    \u001b[32m'__subclasshook__'\u001b[0m,\n",
       "    \u001b[32m'append'\u001b[0m,\n",
       "    \u001b[32m'clear'\u001b[0m,\n",
       "    \u001b[32m'copy'\u001b[0m,\n",
       "    \u001b[32m'count'\u001b[0m,\n",
       "    \u001b[32m'extend'\u001b[0m,\n",
       "    \u001b[32m'index'\u001b[0m,\n",
       "    \u001b[32m'insert'\u001b[0m,\n",
       "    \u001b[32m'pop'\u001b[0m,\n",
       "    \u001b[32m'remove'\u001b[0m,\n",
       "    \u001b[32m'reverse'\u001b[0m,\n",
       "    \u001b[32m'sort'\u001b[0m\n",
       "\u001b[1m]\u001b[0m\n"
      ]
     },
     "metadata": {},
     "output_type": "display_data"
    }
   ],
   "source": [
    "d = dir(s)\n",
    "print(d)"
   ]
  },
  {
   "cell_type": "code",
   "execution_count": 33,
   "id": "68acf6d3-f981-45b9-9faa-512e3d672f51",
   "metadata": {},
   "outputs": [
    {
     "name": "stdout",
     "output_type": "stream",
     "text": [
      "esta hes una frase de ejemplo, 2, 0\n"
     ]
    }
   ],
   "source": [
    "print(s.pop())"
   ]
  }
 ],
 "metadata": {
  "kernelspec": {
   "display_name": "Python 3 (ipykernel)",
   "language": "python",
   "name": "python3"
  },
  "language_info": {
   "codemirror_mode": {
    "name": "ipython",
    "version": 3
   },
   "file_extension": ".py",
   "mimetype": "text/x-python",
   "name": "python",
   "nbconvert_exporter": "python",
   "pygments_lexer": "ipython3",
   "version": "3.10.8"
  }
 },
 "nbformat": 4,
 "nbformat_minor": 5
}
