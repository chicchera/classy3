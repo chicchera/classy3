{
 "cells": [
  {
   "cell_type": "code",
   "execution_count": 15,
   "id": "848c2f6f-e398-4e11-85a8-07e5c9213156",
   "metadata": {},
   "outputs": [],
   "source": [
    "import linecache\n",
    "from symspellpy import SymSpell, Verbosity\n",
    "from rich import print\n",
    "import inspect\n",
    "import os\n",
    "from collections import Counter\n",
    "import numpy as np"
   ]
  },
  {
   "cell_type": "code",
   "execution_count": 16,
   "id": "19a4c2b1-5b95-4332-85f3-81799f19e573",
   "metadata": {},
   "outputs": [],
   "source": [
    "CONFIG_DIR = '/home/silvio/miniconda3/envs/classy3/prg/config/'\n",
    "STOPWORD_ES = 'stopwords_es.txt'\n",
    "STOPWORD_RED = 'stopwords_reddit.txt'\n",
    "DICTIONARY = 'new_dic.txt'\n",
    "\n",
    "dictionary = os.path.join(CONFIG_DIR, DICTIONARY)\n",
    "stopwords_files = [os.path.join(CONFIG_DIR, STOPWORD_ES),\n",
    "                  os.path.join(CONFIG_DIR,STOPWORD_RED)]\n",
    "# stop_words_es = os.path.join(CONFIG_DIR, STOPWORD_ES)\n",
    "# stop_words_red = os.path.join(CONFIG_DIR,STOPWORD_RED)\n"
   ]
  },
  {
   "cell_type": "code",
   "execution_count": 17,
   "id": "a97c14ca-f366-4fa3-8538-ee99340536cb",
   "metadata": {},
   "outputs": [
    {
     "data": {
      "text/plain": [
       "True"
      ]
     },
     "execution_count": 17,
     "metadata": {},
     "output_type": "execute_result"
    }
   ],
   "source": [
    "SS_DISTANCE = 1\n",
    "SS_VERBOSITY = Verbosity.CLOSEST\n",
    "RANGES = 10\n",
    "ss = SymSpell(max_dictionary_edit_distance=SS_DISTANCE, prefix_length=7)\n",
    "ss.load_dictionary(dictionary, term_index=0, count_index=1)\n"
   ]
  },
  {
   "cell_type": "code",
   "execution_count": 18,
   "id": "2c3693ea-e0e0-4249-9a39-52b6665c56d3",
   "metadata": {},
   "outputs": [],
   "source": [
    "def dic_terms() -> int:\n",
    "    with open(dictionary, \"rbU\") as f:\n",
    "        num_lines = sum(1 for _ in f)\n",
    "    return num_lines"
   ]
  },
  {
   "cell_type": "code",
   "execution_count": 19,
   "id": "124783f9-8e4c-46b5-859e-d123ed24c7cf",
   "metadata": {},
   "outputs": [
    {
     "data": {
      "text/html": [
       "<pre style=\"white-space:pre;overflow-x:auto;line-height:normal;font-family:Menlo,'DejaVu Sans Mono',consolas,'Courier New',monospace\"><span style=\"color: #808000; text-decoration-color: #808000\">num_dictionary_terms</span>=<span style=\"color: #008080; text-decoration-color: #008080; font-weight: bold\">134839</span>\n",
       "</pre>\n"
      ],
      "text/plain": [
       "\u001b[33mnum_dictionary_terms\u001b[0m=\u001b[1;36m134839\u001b[0m\n"
      ]
     },
     "metadata": {},
     "output_type": "display_data"
    }
   ],
   "source": [
    "num_dictionary_terms = dic_terms()\n",
    "print(f\"{num_dictionary_terms=}\")"
   ]
  },
  {
   "cell_type": "code",
   "execution_count": 20,
   "id": "0a410b9b-de7c-4b6e-b4e5-22fc92e85f68",
   "metadata": {},
   "outputs": [
    {
     "data": {
      "text/html": [
       "<pre style=\"white-space:pre;overflow-x:auto;line-height:normal;font-family:Menlo,'DejaVu Sans Mono',consolas,'Courier New',monospace\"><span style=\"color: #808000; text-decoration-color: #808000\">dictionary_block_size</span>=<span style=\"color: #008080; text-decoration-color: #008080; font-weight: bold\">13483</span>\n",
       "</pre>\n"
      ],
      "text/plain": [
       "\u001b[33mdictionary_block_size\u001b[0m=\u001b[1;36m13483\u001b[0m\n"
      ]
     },
     "metadata": {},
     "output_type": "display_data"
    }
   ],
   "source": [
    "dictionary_block_size = num_dictionary_terms // RANGES\n",
    "print(f\"{dictionary_block_size=}\")"
   ]
  },
  {
   "cell_type": "code",
   "execution_count": 21,
   "id": "128b44ad-1df0-4e40-96da-fe0dcbc4be50",
   "metadata": {},
   "outputs": [],
   "source": [
    "def read_lines_from_file(file_path, line_numbers):\n",
    "    lines = []\n",
    "    for line_number in line_numbers:\n",
    "        line = linecache.getline(file_path, line_number)\n",
    "        if line:\n",
    "            lines.append(line.strip())  # Remove leading/trailing whitespace\n",
    "    return lines"
   ]
  },
  {
   "cell_type": "code",
   "execution_count": 22,
   "id": "5d06045c-be2e-4c83-82d9-2a20dca6fb02",
   "metadata": {},
   "outputs": [],
   "source": [
    "def get_frequency(line_num, file=dictionary):\n",
    "    line = linecache.getline(file, line_num)  # Fix the order of arguments\n",
    "    if line:\n",
    "        words = line.split()\n",
    "        if len(words) >= 2:\n",
    "            second_word = words[1]\n",
    "            try:\n",
    "                second_word_as_int = int(second_word)\n",
    "            except ValueError:\n",
    "                print(\"Second word is not an integer.\")\n",
    "        else:\n",
    "            print(\"Line doesn't contain at least two words.\")\n",
    "    return second_word_as_int"
   ]
  },
  {
   "cell_type": "code",
   "execution_count": 23,
   "id": "e67ce1e3-d1d4-41e2-8a8c-af4f13a1d835",
   "metadata": {},
   "outputs": [],
   "source": [
    "def read_all_stopwords(files=stopwords_files):\n",
    "    # Initialize an empty Counter\n",
    "    stopwords = Counter()\n",
    "\n",
    "    # Iterate through the list of file paths\n",
    "    for file_path in files:\n",
    "        try:\n",
    "            # Open and read the file\n",
    "            with open(file_path, 'r', encoding='utf-8') as file:\n",
    "                lines = file.readlines()\n",
    "                # Update the Counter with words (stripped of whitespace and newline characters)\n",
    "                for line in lines:\n",
    "                    word = line.strip()\n",
    "                    if word:\n",
    "                        stopwords.update([word.lower()])\n",
    "        except FileNotFoundError:\n",
    "            print(f\"File not found: {file_path}\")\n",
    "        except Exception as e:\n",
    "            print(f\"An error occurred while reading {file_path}: {str(e)}\")\n",
    "\n",
    "    return stopwords\n"
   ]
  },
  {
   "cell_type": "code",
   "execution_count": 24,
   "id": "605503aa-07de-417a-9cbd-f18b41c578ea",
   "metadata": {},
   "outputs": [],
   "source": [
    "stopwords = read_all_stopwords()"
   ]
  },
  {
   "cell_type": "code",
   "execution_count": 25,
   "id": "93a9925d-82c4-4dd8-b7bd-a8941c6ed89a",
   "metadata": {},
   "outputs": [
    {
     "data": {
      "text/html": [
       "<pre style=\"white-space:pre;overflow-x:auto;line-height:normal;font-family:Menlo,'DejaVu Sans Mono',consolas,'Courier New',monospace\"><span style=\"color: #800080; text-decoration-color: #800080; font-weight: bold\">len</span><span style=\"font-weight: bold\">(</span>stopwords<span style=\"font-weight: bold\">)</span>=<span style=\"color: #008080; text-decoration-color: #008080; font-weight: bold\">710</span>\n",
       "</pre>\n"
      ],
      "text/plain": [
       "\u001b[1;35mlen\u001b[0m\u001b[1m(\u001b[0mstopwords\u001b[1m)\u001b[0m=\u001b[1;36m710\u001b[0m\n"
      ]
     },
     "metadata": {},
     "output_type": "display_data"
    }
   ],
   "source": [
    "print(f\"{len(stopwords)=}\")"
   ]
  },
  {
   "cell_type": "code",
   "execution_count": 26,
   "id": "dac2cf4b-c577-4ec5-85e8-b0a93f690574",
   "metadata": {},
   "outputs": [
    {
     "data": {
      "text/html": [
       "<pre style=\"white-space:pre;overflow-x:auto;line-height:normal;font-family:Menlo,'DejaVu Sans Mono',consolas,'Courier New',monospace\"><span style=\"font-weight: bold\">[</span><span style=\"color: #008080; text-decoration-color: #008080; font-weight: bold\">13483</span>, <span style=\"color: #008080; text-decoration-color: #008080; font-weight: bold\">26966</span>, <span style=\"color: #008080; text-decoration-color: #008080; font-weight: bold\">40449</span>, <span style=\"color: #008080; text-decoration-color: #008080; font-weight: bold\">53932</span>, <span style=\"color: #008080; text-decoration-color: #008080; font-weight: bold\">67415</span>, <span style=\"color: #008080; text-decoration-color: #008080; font-weight: bold\">80898</span>, <span style=\"color: #008080; text-decoration-color: #008080; font-weight: bold\">94381</span>, <span style=\"color: #008080; text-decoration-color: #008080; font-weight: bold\">107864</span>, <span style=\"color: #008080; text-decoration-color: #008080; font-weight: bold\">121347</span>, <span style=\"color: #008080; text-decoration-color: #008080; font-weight: bold\">134839</span><span style=\"font-weight: bold\">]</span>\n",
       "</pre>\n"
      ],
      "text/plain": [
       "\u001b[1m[\u001b[0m\u001b[1;36m13483\u001b[0m, \u001b[1;36m26966\u001b[0m, \u001b[1;36m40449\u001b[0m, \u001b[1;36m53932\u001b[0m, \u001b[1;36m67415\u001b[0m, \u001b[1;36m80898\u001b[0m, \u001b[1;36m94381\u001b[0m, \u001b[1;36m107864\u001b[0m, \u001b[1;36m121347\u001b[0m, \u001b[1;36m134839\u001b[0m\u001b[1m]\u001b[0m\n"
      ]
     },
     "metadata": {},
     "output_type": "display_data"
    },
    {
     "data": {
      "text/html": [
       "<pre style=\"white-space:pre;overflow-x:auto;line-height:normal;font-family:Menlo,'DejaVu Sans Mono',consolas,'Courier New',monospace\"><span style=\"font-weight: bold\">[</span><span style=\"color: #008080; text-decoration-color: #008080; font-weight: bold\">226935</span>, <span style=\"color: #008080; text-decoration-color: #008080; font-weight: bold\">81631</span>, <span style=\"color: #008080; text-decoration-color: #008080; font-weight: bold\">42448</span>, <span style=\"color: #008080; text-decoration-color: #008080; font-weight: bold\">26122</span>, <span style=\"color: #008080; text-decoration-color: #008080; font-weight: bold\">17958</span>, <span style=\"color: #008080; text-decoration-color: #008080; font-weight: bold\">12335</span>, <span style=\"color: #008080; text-decoration-color: #008080; font-weight: bold\">8599</span>, <span style=\"color: #008080; text-decoration-color: #008080; font-weight: bold\">6530</span>, <span style=\"color: #008080; text-decoration-color: #008080; font-weight: bold\">4897</span>, <span style=\"color: #008080; text-decoration-color: #008080; font-weight: bold\">1632</span><span style=\"font-weight: bold\">]</span>\n",
       "</pre>\n"
      ],
      "text/plain": [
       "\u001b[1m[\u001b[0m\u001b[1;36m226935\u001b[0m, \u001b[1;36m81631\u001b[0m, \u001b[1;36m42448\u001b[0m, \u001b[1;36m26122\u001b[0m, \u001b[1;36m17958\u001b[0m, \u001b[1;36m12335\u001b[0m, \u001b[1;36m8599\u001b[0m, \u001b[1;36m6530\u001b[0m, \u001b[1;36m4897\u001b[0m, \u001b[1;36m1632\u001b[0m\u001b[1m]\u001b[0m\n"
      ]
     },
     "metadata": {},
     "output_type": "display_data"
    }
   ],
   "source": [
    "line_numbers = []\n",
    "thresholds = []\n",
    "for i in range(1, RANGES):\n",
    "    line_numbers.append(dictionary_block_size * i)\n",
    "    thresholds.append(get_frequency(dictionary_block_size * i, file=dictionary))\n",
    "\n",
    "line_numbers.append(num_dictionary_terms)\n",
    "thresholds.append(get_frequency(dic_terms(), file=dictionary))\n",
    "\n",
    "print(line_numbers)\n",
    "print(thresholds)\n",
    "  "
   ]
  },
  {
   "cell_type": "code",
   "execution_count": 27,
   "id": "284b0ac5-b46b-4fe8-b4d2-05a23563d95d",
   "metadata": {},
   "outputs": [],
   "source": [
    "thresholds_arr = np.array(thresholds) \n",
    "def classify_and_average(numbers):\n",
    "    \"\"\"\n",
    "    Never mind if the spelling become longer!!!\n",
    "    \"\"\"\n",
    "    # numbers is a list \n",
    "    # Create a numpy array from the input list of numbers\n",
    "    numbers_arr = np.array(numbers)\n",
    "    \n",
    "    # Use numpy's digitize function to classify the numbers\n",
    "    classes = np.digitize(numbers_arr, thresholds_arr)\n",
    "    \n",
    "    # Calculate the average of the classified results\n",
    "    average_class = sum(classes) / len(classes)\n",
    "    \n",
    "    return average_class"
   ]
  },
  {
   "cell_type": "code",
   "execution_count": null,
   "id": "d3de88e0-874b-4bdd-a384-02f39b551ee6",
   "metadata": {},
   "outputs": [],
   "source": []
  },
  {
   "cell_type": "code",
   "execution_count": 35,
   "id": "d07d1b32-e7e9-42bb-9dc6-e46011d6c6a5",
   "metadata": {},
   "outputs": [],
   "source": [
    "# Define a function to provide suggestions along with frequencies\n",
    "def suggest_with_frequencies(input_word):\n",
    "    suggestions = ss.lookup(input_word, Verbosity.CLOSEST, max_edit_distance=1)\n",
    "    print(suggestions)\n",
    "    try:\n",
    "        return suggestions[0].term, suggestions[0].count\n",
    "    except IndexError:\n",
    "        # Handle the IndexError gracefully (e.g., return a default value)\n",
    "        return \"No suggestions found\", 0\n"
   ]
  },
  {
   "cell_type": "code",
   "execution_count": 31,
   "id": "5b80f5f6-aa98-486b-98a0-e865dd565a5a",
   "metadata": {},
   "outputs": [],
   "source": [
    "# Example usage:\n",
    "input_word = \"xistren\""
   ]
  },
  {
   "cell_type": "code",
   "execution_count": 36,
   "id": "8b95141e-7f4d-49cc-a3e0-d73b2daf4d1a",
   "metadata": {},
   "outputs": [
    {
     "data": {
      "text/html": [
       "<pre style=\"white-space:pre;overflow-x:auto;line-height:normal;font-family:Menlo,'DejaVu Sans Mono',consolas,'Courier New',monospace\"><span style=\"font-weight: bold\">[]</span>\n",
       "</pre>\n"
      ],
      "text/plain": [
       "\u001b[1m[\u001b[0m\u001b[1m]\u001b[0m\n"
      ]
     },
     "metadata": {},
     "output_type": "display_data"
    },
    {
     "data": {
      "text/html": [
       "<pre style=\"white-space:pre;overflow-x:auto;line-height:normal;font-family:Menlo,'DejaVu Sans Mono',consolas,'Courier New',monospace\"><span style=\"font-weight: bold\">(</span><span style=\"color: #008000; text-decoration-color: #008000\">'No suggestions found'</span>, <span style=\"color: #008080; text-decoration-color: #008080; font-weight: bold\">0</span><span style=\"font-weight: bold\">)</span>\n",
       "</pre>\n"
      ],
      "text/plain": [
       "\u001b[1m(\u001b[0m\u001b[32m'No suggestions found'\u001b[0m, \u001b[1;36m0\u001b[0m\u001b[1m)\u001b[0m\n"
      ]
     },
     "metadata": {},
     "output_type": "display_data"
    }
   ],
   "source": [
    "suggested_words = suggest_with_frequencies(input_word)\n",
    "print(suggested_words)"
   ]
  },
  {
   "cell_type": "code",
   "execution_count": null,
   "id": "230aa5cf-91a7-4d19-a3d3-33f3b7dba4cb",
   "metadata": {},
   "outputs": [],
   "source": [
    "sentence = \"Esta hes una frase de exemplo\""
   ]
  }
 ],
 "metadata": {
  "kernelspec": {
   "display_name": "Python 3 (ipykernel)",
   "language": "python",
   "name": "python3"
  },
  "language_info": {
   "codemirror_mode": {
    "name": "ipython",
    "version": 3
   },
   "file_extension": ".py",
   "mimetype": "text/x-python",
   "name": "python",
   "nbconvert_exporter": "python",
   "pygments_lexer": "ipython3",
   "version": "3.10.8"
  }
 },
 "nbformat": 4,
 "nbformat_minor": 5
}
