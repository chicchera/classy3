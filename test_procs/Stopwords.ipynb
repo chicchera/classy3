{
 "cells": [
  {
   "cell_type": "code",
   "execution_count": 1,
   "id": "9285cd10-822c-4182-84a9-39db838347b0",
   "metadata": {},
   "outputs": [
    {
     "name": "stdout",
     "output_type": "stream",
     "text": [
      "/home/silvio/miniconda3/envs/classy3/prg\n"
     ]
    }
   ],
   "source": [
    "%cd /home/silvio/miniconda3/envs/classy3/prg\n",
    "\n",
    "import linecache\n",
    "from symspellpy import SymSpell, Verbosity\n",
    "from rich import print\n",
    "import inspect\n",
    "import os\n",
    "from collections import Counter\n",
    "import re\n",
    "import textstat\n",
    "from icecream import ic\n",
    "from utils.file_utils import file_validate, diy_file_validate"
   ]
  },
  {
   "cell_type": "code",
   "execution_count": 2,
   "id": "aa2f1c18-7b3d-41ad-96a8-9a0673ef28f4",
   "metadata": {},
   "outputs": [],
   "source": [
    "CONFIG_DIR = '/home/silvio/miniconda3/envs/classy3/prg/config/'\n",
    "STOPWORD_ES = 'stopwords_es.txt'\n",
    "STOPWORD_RED = 'stopwords_reddit.txt'\n",
    "DICTIONARY = 'new_dic.txt'\n",
    "\n",
    "dictionary = os.path.join(CONFIG_DIR, DICTIONARY)\n",
    "stopwords_files = [os.path.join(CONFIG_DIR, STOPWORD_ES),\n",
    "                  os.path.join(CONFIG_DIR,STOPWORD_RED)]"
   ]
  },
  {
   "cell_type": "code",
   "execution_count": 3,
   "id": "5acbcfd0-8c05-4dd7-b26b-d0d088a01338",
   "metadata": {},
   "outputs": [],
   "source": [
    "class Stopwords:\n",
    "    def __init__(self, files_list=[]):\n",
    "        self._stopwords = Counter()\n",
    "        self._files = None\n",
    "        self.load_stopwords(files_list)\n",
    "           \n",
    "           \n",
    "    def load_stopwords(self, files_list=[]):\n",
    "        if isinstance(files_list, list) and files_list:\n",
    "            self._files = files_list \n",
    "        else:\n",
    "            return\n",
    "        \n",
    "    \n",
    "    @property\n",
    "    def stopwords(self):\n",
    "        return self._stopwords\n",
    "\n",
    "    @property\n",
    "    def files(self):\n",
    "        return self._files\n",
    "\n",
    "    @files.setter\n",
    "    def files(self, files_list):\n",
    "        \"\"\"\n",
    "        Loads stopwords from as many file as are contained in files_list. The purpose is to allow stopwords for specifica fields to be loaded. For example, if it were a medical supplement to the standard stopwords, it would contain words like, hospital, IV, transfusion, ER, OR, nurse, injection, etc NOTE: we are talking about stopwords, that is, words that are NOT considered imprescindible unless used by some special dictionaries. Special dictionaries should delete from the stopwords its own words. to read and understand a medical text, but they could be important to analize the content.\n",
    "        \"\"\"\n",
    "        self._stopwords = Counter()\n",
    "\n",
    "        for filename in files_list:\n",
    "            success, message = diy_file_validate(filename)\n",
    "            if not success:\n",
    "                print(message)\n",
    "                continue\n",
    "            self._files.append(filename)\n",
    "        print(\"0\")\n",
    "        print(\"1\")\n",
    "        if not len(self._files):\n",
    "            print(\"No stopwords files found. Aborting\")\n",
    "            exit(0)\n",
    "        print(\"2\")\n",
    "        for filename in self._files:\n",
    "            print(\"4\")\n",
    "            \n",
    "            with open(filename, 'r', encoding='utf-8') as f:\n",
    "                lines = f.readlines()\n",
    "                for line in lines:\n",
    "                    print(line)\n",
    "                    if word := line:\n",
    "                        self._stopwords[word.strip().lower()] += 1\n",
    "                        print(word)"
   ]
  },
  {
   "cell_type": "code",
   "execution_count": 4,
   "id": "8dd55515-0a9a-48bc-a8e0-b0adba020d09",
   "metadata": {},
   "outputs": [],
   "source": [
    "sw = Stopwords"
   ]
  },
  {
   "cell_type": "code",
   "execution_count": 5,
   "id": "04644f5f-8945-4a3a-8f66-4a61f5525d8d",
   "metadata": {},
   "outputs": [
    {
     "data": {
      "text/html": [
       "<pre style=\"white-space:pre;overflow-x:auto;line-height:normal;font-family:Menlo,'DejaVu Sans Mono',consolas,'Courier New',monospace\"><span style=\"color: #800080; text-decoration-color: #800080; font-weight: bold\">mappingproxy</span><span style=\"font-weight: bold\">({</span>\n",
       "    <span style=\"color: #008000; text-decoration-color: #008000\">'__module__'</span>: <span style=\"color: #008000; text-decoration-color: #008000\">'__main__'</span>,\n",
       "    <span style=\"color: #008000; text-decoration-color: #008000\">'__init__'</span>: <span style=\"font-weight: bold\">&lt;</span><span style=\"color: #ff00ff; text-decoration-color: #ff00ff; font-weight: bold\">function</span><span style=\"color: #000000; text-decoration-color: #000000\"> Stopwords.__init__ at </span><span style=\"color: #008080; text-decoration-color: #008080; font-weight: bold\">0x7f465146cdc0</span><span style=\"color: #000000; text-decoration-color: #000000\">&gt;,</span>\n",
       "<span style=\"color: #000000; text-decoration-color: #000000\">    </span><span style=\"color: #008000; text-decoration-color: #008000\">'load_stopwords'</span><span style=\"color: #000000; text-decoration-color: #000000\">: &lt;function Stopwords.load_stopwords at </span><span style=\"color: #008080; text-decoration-color: #008080; font-weight: bold\">0x7f465146c040</span><span style=\"color: #000000; text-decoration-color: #000000\">&gt;,</span>\n",
       "<span style=\"color: #000000; text-decoration-color: #000000\">    </span><span style=\"color: #008000; text-decoration-color: #008000\">'stopwords'</span><span style=\"color: #000000; text-decoration-color: #000000\">: &lt;property object at </span><span style=\"color: #008080; text-decoration-color: #008080; font-weight: bold\">0x7f46502b4450</span><span style=\"color: #000000; text-decoration-color: #000000\">&gt;,</span>\n",
       "<span style=\"color: #000000; text-decoration-color: #000000\">    </span><span style=\"color: #008000; text-decoration-color: #008000\">'files'</span><span style=\"color: #000000; text-decoration-color: #000000\">: &lt;property object at </span><span style=\"color: #008080; text-decoration-color: #008080; font-weight: bold\">0x7f46501a0d10</span><span style=\"color: #000000; text-decoration-color: #000000\">&gt;,</span>\n",
       "<span style=\"color: #000000; text-decoration-color: #000000\">    </span><span style=\"color: #008000; text-decoration-color: #008000\">'__dict__'</span><span style=\"color: #000000; text-decoration-color: #000000\">: &lt;attribute </span><span style=\"color: #008000; text-decoration-color: #008000\">'__dict__'</span><span style=\"color: #000000; text-decoration-color: #000000\"> of </span><span style=\"color: #008000; text-decoration-color: #008000\">'Stopwords'</span><span style=\"color: #000000; text-decoration-color: #000000\"> objects&gt;,</span>\n",
       "<span style=\"color: #000000; text-decoration-color: #000000\">    </span><span style=\"color: #008000; text-decoration-color: #008000\">'__weakref__'</span><span style=\"color: #000000; text-decoration-color: #000000\">: &lt;attribute </span><span style=\"color: #008000; text-decoration-color: #008000\">'__weakref__'</span><span style=\"color: #000000; text-decoration-color: #000000\"> of </span><span style=\"color: #008000; text-decoration-color: #008000\">'Stopwords'</span><span style=\"color: #000000; text-decoration-color: #000000\"> objects</span><span style=\"font-weight: bold\">&gt;</span>,\n",
       "    <span style=\"color: #008000; text-decoration-color: #008000\">'__doc__'</span>: <span style=\"color: #800080; text-decoration-color: #800080; font-style: italic\">None</span>\n",
       "<span style=\"font-weight: bold\">})</span>\n",
       "</pre>\n"
      ],
      "text/plain": [
       "\u001b[1;35mmappingproxy\u001b[0m\u001b[1m(\u001b[0m\u001b[1m{\u001b[0m\n",
       "    \u001b[32m'__module__'\u001b[0m: \u001b[32m'__main__'\u001b[0m,\n",
       "    \u001b[32m'__init__'\u001b[0m: \u001b[1m<\u001b[0m\u001b[1;95mfunction\u001b[0m\u001b[39m Stopwords.__init__ at \u001b[0m\u001b[1;36m0x7f465146cdc0\u001b[0m\u001b[39m>,\u001b[0m\n",
       "\u001b[39m    \u001b[0m\u001b[32m'load_stopwords'\u001b[0m\u001b[39m: <function Stopwords.load_stopwords at \u001b[0m\u001b[1;36m0x7f465146c040\u001b[0m\u001b[39m>,\u001b[0m\n",
       "\u001b[39m    \u001b[0m\u001b[32m'stopwords'\u001b[0m\u001b[39m: <property object at \u001b[0m\u001b[1;36m0x7f46502b4450\u001b[0m\u001b[39m>,\u001b[0m\n",
       "\u001b[39m    \u001b[0m\u001b[32m'files'\u001b[0m\u001b[39m: <property object at \u001b[0m\u001b[1;36m0x7f46501a0d10\u001b[0m\u001b[39m>,\u001b[0m\n",
       "\u001b[39m    \u001b[0m\u001b[32m'__dict__'\u001b[0m\u001b[39m: <attribute \u001b[0m\u001b[32m'__dict__'\u001b[0m\u001b[39m of \u001b[0m\u001b[32m'Stopwords'\u001b[0m\u001b[39m objects>,\u001b[0m\n",
       "\u001b[39m    \u001b[0m\u001b[32m'__weakref__'\u001b[0m\u001b[39m: <attribute \u001b[0m\u001b[32m'__weakref__'\u001b[0m\u001b[39m of \u001b[0m\u001b[32m'Stopwords'\u001b[0m\u001b[39m objects\u001b[0m\u001b[1m>\u001b[0m,\n",
       "    \u001b[32m'__doc__'\u001b[0m: \u001b[3;35mNone\u001b[0m\n",
       "\u001b[1m}\u001b[0m\u001b[1m)\u001b[0m\n"
      ]
     },
     "metadata": {},
     "output_type": "display_data"
    }
   ],
   "source": [
    "print(vars(sw))"
   ]
  },
  {
   "cell_type": "code",
   "execution_count": 6,
   "id": "88b8bc06-5412-45e6-bc65-01c9ddb9c87a",
   "metadata": {
    "tags": []
   },
   "outputs": [],
   "source": [
    "sw.files = stopwords_files"
   ]
  },
  {
   "cell_type": "code",
   "execution_count": 7,
   "id": "780a6d63-3da1-4994-b2ea-fe256a0690eb",
   "metadata": {},
   "outputs": [
    {
     "data": {
      "text/html": [
       "<pre style=\"white-space:pre;overflow-x:auto;line-height:normal;font-family:Menlo,'DejaVu Sans Mono',consolas,'Courier New',monospace\"><span style=\"font-weight: bold\">&lt;</span><span style=\"color: #ff00ff; text-decoration-color: #ff00ff; font-weight: bold\">property</span><span style=\"color: #000000; text-decoration-color: #000000\"> object at </span><span style=\"color: #008080; text-decoration-color: #008080; font-weight: bold\">0x7f46502b4450</span><span style=\"font-weight: bold\">&gt;</span>\n",
       "</pre>\n"
      ],
      "text/plain": [
       "\u001b[1m<\u001b[0m\u001b[1;95mproperty\u001b[0m\u001b[39m object at \u001b[0m\u001b[1;36m0x7f46502b4450\u001b[0m\u001b[1m>\u001b[0m\n"
      ]
     },
     "metadata": {},
     "output_type": "display_data"
    }
   ],
   "source": [
    "print(sw.stopwords)"
   ]
  },
  {
   "cell_type": "code",
   "execution_count": 8,
   "id": "a2878a97-f115-4cf7-bdc1-e75a479d829b",
   "metadata": {},
   "outputs": [
    {
     "data": {
      "text/html": [
       "<pre style=\"white-space:pre;overflow-x:auto;line-height:normal;font-family:Menlo,'DejaVu Sans Mono',consolas,'Courier New',monospace\"><span style=\"color: #800080; text-decoration-color: #800080; font-weight: bold\">mappingproxy</span><span style=\"font-weight: bold\">({</span>\n",
       "    <span style=\"color: #008000; text-decoration-color: #008000\">'__module__'</span>: <span style=\"color: #008000; text-decoration-color: #008000\">'__main__'</span>,\n",
       "    <span style=\"color: #008000; text-decoration-color: #008000\">'__init__'</span>: <span style=\"font-weight: bold\">&lt;</span><span style=\"color: #ff00ff; text-decoration-color: #ff00ff; font-weight: bold\">function</span><span style=\"color: #000000; text-decoration-color: #000000\"> Stopwords.__init__ at </span><span style=\"color: #008080; text-decoration-color: #008080; font-weight: bold\">0x7f465146cdc0</span><span style=\"color: #000000; text-decoration-color: #000000\">&gt;,</span>\n",
       "<span style=\"color: #000000; text-decoration-color: #000000\">    </span><span style=\"color: #008000; text-decoration-color: #008000\">'load_stopwords'</span><span style=\"color: #000000; text-decoration-color: #000000\">: &lt;function Stopwords.load_stopwords at </span><span style=\"color: #008080; text-decoration-color: #008080; font-weight: bold\">0x7f465146c040</span><span style=\"color: #000000; text-decoration-color: #000000\">&gt;,</span>\n",
       "<span style=\"color: #000000; text-decoration-color: #000000\">    </span><span style=\"color: #008000; text-decoration-color: #008000\">'stopwords'</span><span style=\"color: #000000; text-decoration-color: #000000\">: &lt;property object at </span><span style=\"color: #008080; text-decoration-color: #008080; font-weight: bold\">0x7f46502b4450</span><span style=\"color: #000000; text-decoration-color: #000000\">&gt;,</span>\n",
       "<span style=\"color: #000000; text-decoration-color: #000000\">    </span><span style=\"color: #008000; text-decoration-color: #008000\">'files'</span><span style=\"color: #000000; text-decoration-color: #000000\">: </span><span style=\"color: #000000; text-decoration-color: #000000; font-weight: bold\">[</span>\n",
       "<span style=\"color: #000000; text-decoration-color: #000000\">        </span><span style=\"color: #008000; text-decoration-color: #008000\">'/home/silvio/miniconda3/envs/classy3/prg/config/stopwords_es.txt'</span><span style=\"color: #000000; text-decoration-color: #000000\">,</span>\n",
       "<span style=\"color: #000000; text-decoration-color: #000000\">        </span><span style=\"color: #008000; text-decoration-color: #008000\">'/home/silvio/miniconda3/envs/classy3/prg/config/stopwords_reddit.txt'</span>\n",
       "<span style=\"color: #000000; text-decoration-color: #000000\">    </span><span style=\"color: #000000; text-decoration-color: #000000; font-weight: bold\">]</span><span style=\"color: #000000; text-decoration-color: #000000\">,</span>\n",
       "<span style=\"color: #000000; text-decoration-color: #000000\">    </span><span style=\"color: #008000; text-decoration-color: #008000\">'__dict__'</span><span style=\"color: #000000; text-decoration-color: #000000\">: &lt;attribute </span><span style=\"color: #008000; text-decoration-color: #008000\">'__dict__'</span><span style=\"color: #000000; text-decoration-color: #000000\"> of </span><span style=\"color: #008000; text-decoration-color: #008000\">'Stopwords'</span><span style=\"color: #000000; text-decoration-color: #000000\"> objects&gt;,</span>\n",
       "<span style=\"color: #000000; text-decoration-color: #000000\">    </span><span style=\"color: #008000; text-decoration-color: #008000\">'__weakref__'</span><span style=\"color: #000000; text-decoration-color: #000000\">: &lt;attribute </span><span style=\"color: #008000; text-decoration-color: #008000\">'__weakref__'</span><span style=\"color: #000000; text-decoration-color: #000000\"> of </span><span style=\"color: #008000; text-decoration-color: #008000\">'Stopwords'</span><span style=\"color: #000000; text-decoration-color: #000000\"> objects</span><span style=\"font-weight: bold\">&gt;</span>,\n",
       "    <span style=\"color: #008000; text-decoration-color: #008000\">'__doc__'</span>: <span style=\"color: #800080; text-decoration-color: #800080; font-style: italic\">None</span>\n",
       "<span style=\"font-weight: bold\">})</span>\n",
       "</pre>\n"
      ],
      "text/plain": [
       "\u001b[1;35mmappingproxy\u001b[0m\u001b[1m(\u001b[0m\u001b[1m{\u001b[0m\n",
       "    \u001b[32m'__module__'\u001b[0m: \u001b[32m'__main__'\u001b[0m,\n",
       "    \u001b[32m'__init__'\u001b[0m: \u001b[1m<\u001b[0m\u001b[1;95mfunction\u001b[0m\u001b[39m Stopwords.__init__ at \u001b[0m\u001b[1;36m0x7f465146cdc0\u001b[0m\u001b[39m>,\u001b[0m\n",
       "\u001b[39m    \u001b[0m\u001b[32m'load_stopwords'\u001b[0m\u001b[39m: <function Stopwords.load_stopwords at \u001b[0m\u001b[1;36m0x7f465146c040\u001b[0m\u001b[39m>,\u001b[0m\n",
       "\u001b[39m    \u001b[0m\u001b[32m'stopwords'\u001b[0m\u001b[39m: <property object at \u001b[0m\u001b[1;36m0x7f46502b4450\u001b[0m\u001b[39m>,\u001b[0m\n",
       "\u001b[39m    \u001b[0m\u001b[32m'files'\u001b[0m\u001b[39m: \u001b[0m\u001b[1;39m[\u001b[0m\n",
       "\u001b[39m        \u001b[0m\u001b[32m'/home/silvio/miniconda3/envs/classy3/prg/config/stopwords_es.txt'\u001b[0m\u001b[39m,\u001b[0m\n",
       "\u001b[39m        \u001b[0m\u001b[32m'/home/silvio/miniconda3/envs/classy3/prg/config/stopwords_reddit.txt'\u001b[0m\n",
       "\u001b[39m    \u001b[0m\u001b[1;39m]\u001b[0m\u001b[39m,\u001b[0m\n",
       "\u001b[39m    \u001b[0m\u001b[32m'__dict__'\u001b[0m\u001b[39m: <attribute \u001b[0m\u001b[32m'__dict__'\u001b[0m\u001b[39m of \u001b[0m\u001b[32m'Stopwords'\u001b[0m\u001b[39m objects>,\u001b[0m\n",
       "\u001b[39m    \u001b[0m\u001b[32m'__weakref__'\u001b[0m\u001b[39m: <attribute \u001b[0m\u001b[32m'__weakref__'\u001b[0m\u001b[39m of \u001b[0m\u001b[32m'Stopwords'\u001b[0m\u001b[39m objects\u001b[0m\u001b[1m>\u001b[0m,\n",
       "    \u001b[32m'__doc__'\u001b[0m: \u001b[3;35mNone\u001b[0m\n",
       "\u001b[1m}\u001b[0m\u001b[1m)\u001b[0m\n"
      ]
     },
     "metadata": {},
     "output_type": "display_data"
    }
   ],
   "source": [
    "print(vars(sw))"
   ]
  }
 ],
 "metadata": {
  "kernelspec": {
   "display_name": "Python 3 (ipykernel)",
   "language": "python",
   "name": "python3"
  },
  "language_info": {
   "codemirror_mode": {
    "name": "ipython",
    "version": 3
   },
   "file_extension": ".py",
   "mimetype": "text/x-python",
   "name": "python",
   "nbconvert_exporter": "python",
   "pygments_lexer": "ipython3",
   "version": "3.10.8"
  }
 },
 "nbformat": 4,
 "nbformat_minor": 5
}
